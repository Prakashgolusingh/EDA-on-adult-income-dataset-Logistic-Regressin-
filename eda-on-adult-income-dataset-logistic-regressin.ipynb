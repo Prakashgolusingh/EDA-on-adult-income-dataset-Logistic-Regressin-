{
 "cells": [
  {
   "cell_type": "markdown",
   "id": "475bafea",
   "metadata": {
    "id": "mKhneUmNkwN9",
    "papermill": {
     "duration": 0.023479,
     "end_time": "2023-11-10T21:59:56.361243",
     "exception": false,
     "start_time": "2023-11-10T21:59:56.337764",
     "status": "completed"
    },
    "tags": []
   },
   "source": [
    " **your suggestion and feedback helps in my leaning**\n",
    "\n",
    "Dataset -- **Adult Income**\n",
    "\n",
    "\n",
    "About the dataset --\n",
    "    The Adult dataset is from the Census Bureau and the task is to predict whether a given adult makes more than $50,000 a year based attributes such as education, hours of work per week, etc..\n",
    "\n",
    "further more you can read about it --\n",
    "download the dataset  --\n",
    "    https://archive.ics.uci.edu/dataset/2/adult\n",
    "\n",
    "It consider to be a good practice to get knowledge about dataset as much as possible, it going to help in building our model.\n",
    "Task - Perform defferent steps of EDA on choosen dataset."
   ]
  },
  {
   "cell_type": "code",
   "execution_count": 1,
   "id": "2e0e7a86",
   "metadata": {
    "execution": {
     "iopub.execute_input": "2023-11-10T21:59:56.409996Z",
     "iopub.status.busy": "2023-11-10T21:59:56.409549Z",
     "iopub.status.idle": "2023-11-10T21:59:58.926205Z",
     "shell.execute_reply": "2023-11-10T21:59:58.925199Z"
    },
    "executionInfo": {
     "elapsed": 532,
     "status": "ok",
     "timestamp": 1699032282779,
     "user": {
      "displayName": "Prakash Singh",
      "userId": "12192818067739007778"
     },
     "user_tz": -330
    },
    "id": "rDd4hRTz30CM",
    "papermill": {
     "duration": 2.544518,
     "end_time": "2023-11-10T21:59:58.929383",
     "exception": false,
     "start_time": "2023-11-10T21:59:56.384865",
     "status": "completed"
    },
    "tags": []
   },
   "outputs": [],
   "source": [
    "# importing necessary libraries\n",
    "import pandas as pd\n",
    "import matplotlib.pyplot as plt\n",
    "import seaborn as sns\n",
    "import numpy as np\n",
    "from sklearn.preprocessing import StandardScaler\n",
    "from sklearn.model_selection import train_test_split\n",
    "from sklearn.metrics import accuracy_score, mean_squared_error, f1_score, classification_report, precision_score, recall_score, confusion_matrix\n",
    "from sklearn.linear_model import LogisticRegression"
   ]
  },
  {
   "cell_type": "code",
   "execution_count": 2,
   "id": "2ec1e7c3",
   "metadata": {
    "execution": {
     "iopub.execute_input": "2023-11-10T21:59:58.979636Z",
     "iopub.status.busy": "2023-11-10T21:59:58.978760Z",
     "iopub.status.idle": "2023-11-10T21:59:59.195725Z",
     "shell.execute_reply": "2023-11-10T21:59:59.194334Z"
    },
    "executionInfo": {
     "elapsed": 19,
     "status": "ok",
     "timestamp": 1699032283272,
     "user": {
      "displayName": "Prakash Singh",
      "userId": "12192818067739007778"
     },
     "user_tz": -330
    },
    "id": "VlgWcOGv4V9I",
    "papermill": {
     "duration": 0.244752,
     "end_time": "2023-11-10T21:59:59.198583",
     "exception": false,
     "start_time": "2023-11-10T21:59:58.953831",
     "status": "completed"
    },
    "tags": []
   },
   "outputs": [],
   "source": [
    "df = pd.read_csv('/kaggle/input/adult-income-dataset/adult.csv') # Loading the dataset"
   ]
  },
  {
   "cell_type": "code",
   "execution_count": 3,
   "id": "eb8f67af",
   "metadata": {
    "execution": {
     "iopub.execute_input": "2023-11-10T21:59:59.246331Z",
     "iopub.status.busy": "2023-11-10T21:59:59.245603Z",
     "iopub.status.idle": "2023-11-10T21:59:59.253710Z",
     "shell.execute_reply": "2023-11-10T21:59:59.252697Z"
    },
    "executionInfo": {
     "elapsed": 20,
     "status": "ok",
     "timestamp": 1699032283273,
     "user": {
      "displayName": "Prakash Singh",
      "userId": "12192818067739007778"
     },
     "user_tz": -330
    },
    "id": "Kk2AOI3z71KJ",
    "outputId": "4e8b02cc-7908-4810-d228-d8c287dee658",
    "papermill": {
     "duration": 0.034983,
     "end_time": "2023-11-10T21:59:59.256046",
     "exception": false,
     "start_time": "2023-11-10T21:59:59.221063",
     "status": "completed"
    },
    "tags": []
   },
   "outputs": [
    {
     "data": {
      "text/plain": [
       "(48842, 15)"
      ]
     },
     "execution_count": 3,
     "metadata": {},
     "output_type": "execute_result"
    }
   ],
   "source": [
    "df.shape # printing shape to get idea about no. of rows and columns, even though i have some background knowledge about dataset."
   ]
  },
  {
   "cell_type": "markdown",
   "id": "10e3e7a4",
   "metadata": {
    "id": "-fzDeC098HPN",
    "papermill": {
     "duration": 0.022886,
     "end_time": "2023-11-10T21:59:59.302133",
     "exception": false,
     "start_time": "2023-11-10T21:59:59.279247",
     "status": "completed"
    },
    "tags": []
   },
   "source": [
    "So we total have 48842 rows and 15 features\n",
    "\n",
    "\n"
   ]
  },
  {
   "cell_type": "markdown",
   "id": "3d86eefd",
   "metadata": {
    "id": "GqS6azkYtKYv",
    "papermill": {
     "duration": 0.022732,
     "end_time": "2023-11-10T21:59:59.348059",
     "exception": false,
     "start_time": "2023-11-10T21:59:59.325327",
     "status": "completed"
    },
    "tags": []
   },
   "source": [
    "Attribute Information:\n",
    "\n",
    "**age:** continuous.\n",
    "\n",
    "**workclass:** Private, Self-emp-not-inc, Self-emp-inc, Federal-gov, Local-gov, State-gov, Without-pay, Never-worked.\n",
    "\n",
    "**fnlwgt:** continuous.\n",
    "\n",
    "**education:** Bachelors, Some-college, 11th, HS-grad, Prof-school, Assoc-acdm, Assoc-voc, 9th, 7th-8th, 12th, Masters, 1st-4th, 10th, Doctorate, 5th-6th, Preschool.\n",
    "\n",
    "**education-num:** continuous.\n",
    "\n",
    "**marital-status:** Married-civ-spouse, Divorced, Never-married, Separated, Widowed, Married-spouse-absent, Married-AF-spouse.\n",
    "\n",
    "**occupation:** Tech-support, Craft-repair, Other-service, Sales, Exec-managerial, Prof-specialty, Handlers-cleaners, Machine-op-inspct, Adm-clerical, Farming-fishing, Transport-moving, Priv-house-serv, Protective-serv, Armed-Forces.\n",
    "\n",
    "**relationship:** Wife, Own-child, Husband, Not-in-family, Other-relative, Unmarried.\n",
    "\n",
    "**race:** White, Asian-Pac-Islander, Amer-Indian-Eskimo, Other, Black.\n",
    "\n",
    "**sex:** Female, Male.\n",
    "\n",
    "**capital-gain:** continuous.\n",
    "\n",
    "**capital-loss:** continuous.\n",
    "\n",
    "**hours-per-week:** continuous.\n",
    "\n",
    "**native-country:** United-States, Cambodia, England, Puerto-Rico, Canada, Germany, Outlying-US(Guam-USVI-etc), India, Japan, Greece, South, China, Cuba, Iran, Honduras, Philippines, Italy, Poland, Jamaica, Vietnam, Mexico, Portugal, Ireland, France, Dominican-Republic, Laos, Ecuador, Taiwan, Haiti, Columbia, Hungary, Guatemala, Nicaragua, Scotland, Thailand, Yugoslavia,El-Salvador, Trinadad&Tobago, Peru, Hong, Holand-Netherlands. class: >50K, <=50K\n",
    "\n",
    "**Notes for Delve**\n",
    "One prototask (income) has been defined, using attributes 1-13 as inputs and income level as a binary target.\n",
    "\n",
    "Missing values - These are confined to attributes 2 (workclass), 7 (occupation) and 14 (native-country). The prototask only uses cases with no missing values.\n",
    "\n",
    "The income prototask comes with two priors, differing according to if attribute 4 (education) is considered to be nominal or ordinal."
   ]
  },
  {
   "cell_type": "code",
   "execution_count": 4,
   "id": "4729e785",
   "metadata": {
    "execution": {
     "iopub.execute_input": "2023-11-10T21:59:59.396882Z",
     "iopub.status.busy": "2023-11-10T21:59:59.396122Z",
     "iopub.status.idle": "2023-11-10T21:59:59.472784Z",
     "shell.execute_reply": "2023-11-10T21:59:59.471190Z"
    },
    "executionInfo": {
     "elapsed": 17,
     "status": "ok",
     "timestamp": 1699032283273,
     "user": {
      "displayName": "Prakash Singh",
      "userId": "12192818067739007778"
     },
     "user_tz": -330
    },
    "id": "zr9jZ68u4V_f",
    "outputId": "dd2fe415-cfbf-44c6-df9a-065d6b464671",
    "papermill": {
     "duration": 0.104451,
     "end_time": "2023-11-10T21:59:59.476204",
     "exception": false,
     "start_time": "2023-11-10T21:59:59.371753",
     "status": "completed"
    },
    "tags": []
   },
   "outputs": [
    {
     "name": "stdout",
     "output_type": "stream",
     "text": [
      "<class 'pandas.core.frame.DataFrame'>\n",
      "RangeIndex: 48842 entries, 0 to 48841\n",
      "Data columns (total 15 columns):\n",
      " #   Column           Non-Null Count  Dtype \n",
      "---  ------           --------------  ----- \n",
      " 0   age              48842 non-null  int64 \n",
      " 1   workclass        48842 non-null  object\n",
      " 2   fnlwgt           48842 non-null  int64 \n",
      " 3   education        48842 non-null  object\n",
      " 4   educational-num  48842 non-null  int64 \n",
      " 5   marital-status   48842 non-null  object\n",
      " 6   occupation       48842 non-null  object\n",
      " 7   relationship     48842 non-null  object\n",
      " 8   race             48842 non-null  object\n",
      " 9   gender           48842 non-null  object\n",
      " 10  capital-gain     48842 non-null  int64 \n",
      " 11  capital-loss     48842 non-null  int64 \n",
      " 12  hours-per-week   48842 non-null  int64 \n",
      " 13  native-country   48842 non-null  object\n",
      " 14  income           48842 non-null  object\n",
      "dtypes: int64(6), object(9)\n",
      "memory usage: 5.6+ MB\n"
     ]
    }
   ],
   "source": [
    "df.info() # it tell us about data type and if null value present of each column(feature)"
   ]
  },
  {
   "cell_type": "markdown",
   "id": "099a38a7",
   "metadata": {
    "id": "bK5je3P98eLp",
    "papermill": {
     "duration": 0.023198,
     "end_time": "2023-11-10T21:59:59.523207",
     "exception": false,
     "start_time": "2023-11-10T21:59:59.500009",
     "status": "completed"
    },
    "tags": []
   },
   "source": [
    "So from df.info() we get to know about features with their data type and if any null value presents in it. so we don't have any null value in this dataset."
   ]
  },
  {
   "cell_type": "code",
   "execution_count": 5,
   "id": "07ed61d9",
   "metadata": {
    "execution": {
     "iopub.execute_input": "2023-11-10T21:59:59.572832Z",
     "iopub.status.busy": "2023-11-10T21:59:59.572397Z",
     "iopub.status.idle": "2023-11-10T21:59:59.597730Z",
     "shell.execute_reply": "2023-11-10T21:59:59.596626Z"
    },
    "executionInfo": {
     "elapsed": 15,
     "status": "ok",
     "timestamp": 1699032283273,
     "user": {
      "displayName": "Prakash Singh",
      "userId": "12192818067739007778"
     },
     "user_tz": -330
    },
    "id": "mEvRbaCx6XWp",
    "outputId": "b09c33e2-74ac-4ab4-f057-8646e9271494",
    "papermill": {
     "duration": 0.05347,
     "end_time": "2023-11-10T21:59:59.600298",
     "exception": false,
     "start_time": "2023-11-10T21:59:59.546828",
     "status": "completed"
    },
    "tags": []
   },
   "outputs": [
    {
     "data": {
      "text/html": [
       "<div>\n",
       "<style scoped>\n",
       "    .dataframe tbody tr th:only-of-type {\n",
       "        vertical-align: middle;\n",
       "    }\n",
       "\n",
       "    .dataframe tbody tr th {\n",
       "        vertical-align: top;\n",
       "    }\n",
       "\n",
       "    .dataframe thead th {\n",
       "        text-align: right;\n",
       "    }\n",
       "</style>\n",
       "<table border=\"1\" class=\"dataframe\">\n",
       "  <thead>\n",
       "    <tr style=\"text-align: right;\">\n",
       "      <th></th>\n",
       "      <th>age</th>\n",
       "      <th>workclass</th>\n",
       "      <th>fnlwgt</th>\n",
       "      <th>education</th>\n",
       "      <th>educational-num</th>\n",
       "      <th>marital-status</th>\n",
       "      <th>occupation</th>\n",
       "      <th>relationship</th>\n",
       "      <th>race</th>\n",
       "      <th>gender</th>\n",
       "      <th>capital-gain</th>\n",
       "      <th>capital-loss</th>\n",
       "      <th>hours-per-week</th>\n",
       "      <th>native-country</th>\n",
       "      <th>income</th>\n",
       "    </tr>\n",
       "  </thead>\n",
       "  <tbody>\n",
       "    <tr>\n",
       "      <th>0</th>\n",
       "      <td>25</td>\n",
       "      <td>Private</td>\n",
       "      <td>226802</td>\n",
       "      <td>11th</td>\n",
       "      <td>7</td>\n",
       "      <td>Never-married</td>\n",
       "      <td>Machine-op-inspct</td>\n",
       "      <td>Own-child</td>\n",
       "      <td>Black</td>\n",
       "      <td>Male</td>\n",
       "      <td>0</td>\n",
       "      <td>0</td>\n",
       "      <td>40</td>\n",
       "      <td>United-States</td>\n",
       "      <td>&lt;=50K</td>\n",
       "    </tr>\n",
       "    <tr>\n",
       "      <th>1</th>\n",
       "      <td>38</td>\n",
       "      <td>Private</td>\n",
       "      <td>89814</td>\n",
       "      <td>HS-grad</td>\n",
       "      <td>9</td>\n",
       "      <td>Married-civ-spouse</td>\n",
       "      <td>Farming-fishing</td>\n",
       "      <td>Husband</td>\n",
       "      <td>White</td>\n",
       "      <td>Male</td>\n",
       "      <td>0</td>\n",
       "      <td>0</td>\n",
       "      <td>50</td>\n",
       "      <td>United-States</td>\n",
       "      <td>&lt;=50K</td>\n",
       "    </tr>\n",
       "    <tr>\n",
       "      <th>2</th>\n",
       "      <td>28</td>\n",
       "      <td>Local-gov</td>\n",
       "      <td>336951</td>\n",
       "      <td>Assoc-acdm</td>\n",
       "      <td>12</td>\n",
       "      <td>Married-civ-spouse</td>\n",
       "      <td>Protective-serv</td>\n",
       "      <td>Husband</td>\n",
       "      <td>White</td>\n",
       "      <td>Male</td>\n",
       "      <td>0</td>\n",
       "      <td>0</td>\n",
       "      <td>40</td>\n",
       "      <td>United-States</td>\n",
       "      <td>&gt;50K</td>\n",
       "    </tr>\n",
       "    <tr>\n",
       "      <th>3</th>\n",
       "      <td>44</td>\n",
       "      <td>Private</td>\n",
       "      <td>160323</td>\n",
       "      <td>Some-college</td>\n",
       "      <td>10</td>\n",
       "      <td>Married-civ-spouse</td>\n",
       "      <td>Machine-op-inspct</td>\n",
       "      <td>Husband</td>\n",
       "      <td>Black</td>\n",
       "      <td>Male</td>\n",
       "      <td>7688</td>\n",
       "      <td>0</td>\n",
       "      <td>40</td>\n",
       "      <td>United-States</td>\n",
       "      <td>&gt;50K</td>\n",
       "    </tr>\n",
       "    <tr>\n",
       "      <th>4</th>\n",
       "      <td>18</td>\n",
       "      <td>?</td>\n",
       "      <td>103497</td>\n",
       "      <td>Some-college</td>\n",
       "      <td>10</td>\n",
       "      <td>Never-married</td>\n",
       "      <td>?</td>\n",
       "      <td>Own-child</td>\n",
       "      <td>White</td>\n",
       "      <td>Female</td>\n",
       "      <td>0</td>\n",
       "      <td>0</td>\n",
       "      <td>30</td>\n",
       "      <td>United-States</td>\n",
       "      <td>&lt;=50K</td>\n",
       "    </tr>\n",
       "    <tr>\n",
       "      <th>5</th>\n",
       "      <td>34</td>\n",
       "      <td>Private</td>\n",
       "      <td>198693</td>\n",
       "      <td>10th</td>\n",
       "      <td>6</td>\n",
       "      <td>Never-married</td>\n",
       "      <td>Other-service</td>\n",
       "      <td>Not-in-family</td>\n",
       "      <td>White</td>\n",
       "      <td>Male</td>\n",
       "      <td>0</td>\n",
       "      <td>0</td>\n",
       "      <td>30</td>\n",
       "      <td>United-States</td>\n",
       "      <td>&lt;=50K</td>\n",
       "    </tr>\n",
       "    <tr>\n",
       "      <th>6</th>\n",
       "      <td>29</td>\n",
       "      <td>?</td>\n",
       "      <td>227026</td>\n",
       "      <td>HS-grad</td>\n",
       "      <td>9</td>\n",
       "      <td>Never-married</td>\n",
       "      <td>?</td>\n",
       "      <td>Unmarried</td>\n",
       "      <td>Black</td>\n",
       "      <td>Male</td>\n",
       "      <td>0</td>\n",
       "      <td>0</td>\n",
       "      <td>40</td>\n",
       "      <td>United-States</td>\n",
       "      <td>&lt;=50K</td>\n",
       "    </tr>\n",
       "    <tr>\n",
       "      <th>7</th>\n",
       "      <td>63</td>\n",
       "      <td>Self-emp-not-inc</td>\n",
       "      <td>104626</td>\n",
       "      <td>Prof-school</td>\n",
       "      <td>15</td>\n",
       "      <td>Married-civ-spouse</td>\n",
       "      <td>Prof-specialty</td>\n",
       "      <td>Husband</td>\n",
       "      <td>White</td>\n",
       "      <td>Male</td>\n",
       "      <td>3103</td>\n",
       "      <td>0</td>\n",
       "      <td>32</td>\n",
       "      <td>United-States</td>\n",
       "      <td>&gt;50K</td>\n",
       "    </tr>\n",
       "    <tr>\n",
       "      <th>8</th>\n",
       "      <td>24</td>\n",
       "      <td>Private</td>\n",
       "      <td>369667</td>\n",
       "      <td>Some-college</td>\n",
       "      <td>10</td>\n",
       "      <td>Never-married</td>\n",
       "      <td>Other-service</td>\n",
       "      <td>Unmarried</td>\n",
       "      <td>White</td>\n",
       "      <td>Female</td>\n",
       "      <td>0</td>\n",
       "      <td>0</td>\n",
       "      <td>40</td>\n",
       "      <td>United-States</td>\n",
       "      <td>&lt;=50K</td>\n",
       "    </tr>\n",
       "    <tr>\n",
       "      <th>9</th>\n",
       "      <td>55</td>\n",
       "      <td>Private</td>\n",
       "      <td>104996</td>\n",
       "      <td>7th-8th</td>\n",
       "      <td>4</td>\n",
       "      <td>Married-civ-spouse</td>\n",
       "      <td>Craft-repair</td>\n",
       "      <td>Husband</td>\n",
       "      <td>White</td>\n",
       "      <td>Male</td>\n",
       "      <td>0</td>\n",
       "      <td>0</td>\n",
       "      <td>10</td>\n",
       "      <td>United-States</td>\n",
       "      <td>&lt;=50K</td>\n",
       "    </tr>\n",
       "  </tbody>\n",
       "</table>\n",
       "</div>"
      ],
      "text/plain": [
       "   age         workclass  fnlwgt     education  educational-num  \\\n",
       "0   25           Private  226802          11th                7   \n",
       "1   38           Private   89814       HS-grad                9   \n",
       "2   28         Local-gov  336951    Assoc-acdm               12   \n",
       "3   44           Private  160323  Some-college               10   \n",
       "4   18                 ?  103497  Some-college               10   \n",
       "5   34           Private  198693          10th                6   \n",
       "6   29                 ?  227026       HS-grad                9   \n",
       "7   63  Self-emp-not-inc  104626   Prof-school               15   \n",
       "8   24           Private  369667  Some-college               10   \n",
       "9   55           Private  104996       7th-8th                4   \n",
       "\n",
       "       marital-status         occupation   relationship   race  gender  \\\n",
       "0       Never-married  Machine-op-inspct      Own-child  Black    Male   \n",
       "1  Married-civ-spouse    Farming-fishing        Husband  White    Male   \n",
       "2  Married-civ-spouse    Protective-serv        Husband  White    Male   \n",
       "3  Married-civ-spouse  Machine-op-inspct        Husband  Black    Male   \n",
       "4       Never-married                  ?      Own-child  White  Female   \n",
       "5       Never-married      Other-service  Not-in-family  White    Male   \n",
       "6       Never-married                  ?      Unmarried  Black    Male   \n",
       "7  Married-civ-spouse     Prof-specialty        Husband  White    Male   \n",
       "8       Never-married      Other-service      Unmarried  White  Female   \n",
       "9  Married-civ-spouse       Craft-repair        Husband  White    Male   \n",
       "\n",
       "   capital-gain  capital-loss  hours-per-week native-country income  \n",
       "0             0             0              40  United-States  <=50K  \n",
       "1             0             0              50  United-States  <=50K  \n",
       "2             0             0              40  United-States   >50K  \n",
       "3          7688             0              40  United-States   >50K  \n",
       "4             0             0              30  United-States  <=50K  \n",
       "5             0             0              30  United-States  <=50K  \n",
       "6             0             0              40  United-States  <=50K  \n",
       "7          3103             0              32  United-States   >50K  \n",
       "8             0             0              40  United-States  <=50K  \n",
       "9             0             0              10  United-States  <=50K  "
      ]
     },
     "execution_count": 5,
     "metadata": {},
     "output_type": "execute_result"
    }
   ],
   "source": [
    "df.head(10)"
   ]
  },
  {
   "cell_type": "markdown",
   "id": "9c17e0b4",
   "metadata": {
    "id": "0cso-IeO6z8C",
    "papermill": {
     "duration": 0.024129,
     "end_time": "2023-11-10T21:59:59.707157",
     "exception": false,
     "start_time": "2023-11-10T21:59:59.683028",
     "status": "completed"
    },
    "tags": []
   },
   "source": [
    "So we don't have null value instead we have '?' in two columns that is workclass and occupation contains '?' so need to handle it"
   ]
  },
  {
   "cell_type": "code",
   "execution_count": 6,
   "id": "3a9572ef",
   "metadata": {
    "execution": {
     "iopub.execute_input": "2023-11-10T21:59:59.758059Z",
     "iopub.status.busy": "2023-11-10T21:59:59.757683Z",
     "iopub.status.idle": "2023-11-10T21:59:59.845160Z",
     "shell.execute_reply": "2023-11-10T21:59:59.844029Z"
    },
    "executionInfo": {
     "elapsed": 14,
     "status": "ok",
     "timestamp": 1699032283273,
     "user": {
      "displayName": "Prakash Singh",
      "userId": "12192818067739007778"
     },
     "user_tz": -330
    },
    "id": "HNoIIcVl6x7V",
    "outputId": "d823cad1-4885-455a-d21e-2c397d31902a",
    "papermill": {
     "duration": 0.115615,
     "end_time": "2023-11-10T21:59:59.847537",
     "exception": false,
     "start_time": "2023-11-10T21:59:59.731922",
     "status": "completed"
    },
    "tags": []
   },
   "outputs": [
    {
     "data": {
      "text/html": [
       "<div>\n",
       "<style scoped>\n",
       "    .dataframe tbody tr th:only-of-type {\n",
       "        vertical-align: middle;\n",
       "    }\n",
       "\n",
       "    .dataframe tbody tr th {\n",
       "        vertical-align: top;\n",
       "    }\n",
       "\n",
       "    .dataframe thead th {\n",
       "        text-align: right;\n",
       "    }\n",
       "</style>\n",
       "<table border=\"1\" class=\"dataframe\">\n",
       "  <thead>\n",
       "    <tr style=\"text-align: right;\">\n",
       "      <th></th>\n",
       "      <th>age</th>\n",
       "      <th>workclass</th>\n",
       "      <th>fnlwgt</th>\n",
       "      <th>education</th>\n",
       "      <th>educational-num</th>\n",
       "      <th>marital-status</th>\n",
       "      <th>occupation</th>\n",
       "      <th>relationship</th>\n",
       "      <th>race</th>\n",
       "      <th>gender</th>\n",
       "      <th>capital-gain</th>\n",
       "      <th>capital-loss</th>\n",
       "      <th>hours-per-week</th>\n",
       "      <th>native-country</th>\n",
       "      <th>income</th>\n",
       "    </tr>\n",
       "  </thead>\n",
       "  <tbody>\n",
       "    <tr>\n",
       "      <th>0</th>\n",
       "      <td>25</td>\n",
       "      <td>Private</td>\n",
       "      <td>226802</td>\n",
       "      <td>11th</td>\n",
       "      <td>7</td>\n",
       "      <td>Never-married</td>\n",
       "      <td>Machine-op-inspct</td>\n",
       "      <td>Own-child</td>\n",
       "      <td>Black</td>\n",
       "      <td>Male</td>\n",
       "      <td>0</td>\n",
       "      <td>0</td>\n",
       "      <td>40</td>\n",
       "      <td>United-States</td>\n",
       "      <td>&lt;=50K</td>\n",
       "    </tr>\n",
       "    <tr>\n",
       "      <th>1</th>\n",
       "      <td>38</td>\n",
       "      <td>Private</td>\n",
       "      <td>89814</td>\n",
       "      <td>HS-grad</td>\n",
       "      <td>9</td>\n",
       "      <td>Married-civ-spouse</td>\n",
       "      <td>Farming-fishing</td>\n",
       "      <td>Husband</td>\n",
       "      <td>White</td>\n",
       "      <td>Male</td>\n",
       "      <td>0</td>\n",
       "      <td>0</td>\n",
       "      <td>50</td>\n",
       "      <td>United-States</td>\n",
       "      <td>&lt;=50K</td>\n",
       "    </tr>\n",
       "    <tr>\n",
       "      <th>2</th>\n",
       "      <td>28</td>\n",
       "      <td>Local-gov</td>\n",
       "      <td>336951</td>\n",
       "      <td>Assoc-acdm</td>\n",
       "      <td>12</td>\n",
       "      <td>Married-civ-spouse</td>\n",
       "      <td>Protective-serv</td>\n",
       "      <td>Husband</td>\n",
       "      <td>White</td>\n",
       "      <td>Male</td>\n",
       "      <td>0</td>\n",
       "      <td>0</td>\n",
       "      <td>40</td>\n",
       "      <td>United-States</td>\n",
       "      <td>&gt;50K</td>\n",
       "    </tr>\n",
       "    <tr>\n",
       "      <th>3</th>\n",
       "      <td>44</td>\n",
       "      <td>Private</td>\n",
       "      <td>160323</td>\n",
       "      <td>Some-college</td>\n",
       "      <td>10</td>\n",
       "      <td>Married-civ-spouse</td>\n",
       "      <td>Machine-op-inspct</td>\n",
       "      <td>Husband</td>\n",
       "      <td>Black</td>\n",
       "      <td>Male</td>\n",
       "      <td>7688</td>\n",
       "      <td>0</td>\n",
       "      <td>40</td>\n",
       "      <td>United-States</td>\n",
       "      <td>&gt;50K</td>\n",
       "    </tr>\n",
       "    <tr>\n",
       "      <th>4</th>\n",
       "      <td>18</td>\n",
       "      <td>NaN</td>\n",
       "      <td>103497</td>\n",
       "      <td>Some-college</td>\n",
       "      <td>10</td>\n",
       "      <td>Never-married</td>\n",
       "      <td>NaN</td>\n",
       "      <td>Own-child</td>\n",
       "      <td>White</td>\n",
       "      <td>Female</td>\n",
       "      <td>0</td>\n",
       "      <td>0</td>\n",
       "      <td>30</td>\n",
       "      <td>United-States</td>\n",
       "      <td>&lt;=50K</td>\n",
       "    </tr>\n",
       "  </tbody>\n",
       "</table>\n",
       "</div>"
      ],
      "text/plain": [
       "   age  workclass  fnlwgt     education  educational-num      marital-status  \\\n",
       "0   25    Private  226802          11th                7       Never-married   \n",
       "1   38    Private   89814       HS-grad                9  Married-civ-spouse   \n",
       "2   28  Local-gov  336951    Assoc-acdm               12  Married-civ-spouse   \n",
       "3   44    Private  160323  Some-college               10  Married-civ-spouse   \n",
       "4   18        NaN  103497  Some-college               10       Never-married   \n",
       "\n",
       "          occupation relationship   race  gender  capital-gain  capital-loss  \\\n",
       "0  Machine-op-inspct    Own-child  Black    Male             0             0   \n",
       "1    Farming-fishing      Husband  White    Male             0             0   \n",
       "2    Protective-serv      Husband  White    Male             0             0   \n",
       "3  Machine-op-inspct      Husband  Black    Male          7688             0   \n",
       "4                NaN    Own-child  White  Female             0             0   \n",
       "\n",
       "   hours-per-week native-country income  \n",
       "0              40  United-States  <=50K  \n",
       "1              50  United-States  <=50K  \n",
       "2              40  United-States   >50K  \n",
       "3              40  United-States   >50K  \n",
       "4              30  United-States  <=50K  "
      ]
     },
     "execution_count": 6,
     "metadata": {},
     "output_type": "execute_result"
    }
   ],
   "source": [
    "df.replace('?', np.nan, inplace = True) # Here we replace '?' with nan\n",
    "df.head()"
   ]
  },
  {
   "cell_type": "markdown",
   "id": "93ebbfa6",
   "metadata": {
    "id": "_QcAO0n9-3aW",
    "papermill": {
     "duration": 0.024589,
     "end_time": "2023-11-10T21:59:59.897113",
     "exception": false,
     "start_time": "2023-11-10T21:59:59.872524",
     "status": "completed"
    },
    "tags": []
   },
   "source": [
    "Now we can see that in index 4 instead of '?' it has replaced with nan value\n",
    "Next check how many values is nan."
   ]
  },
  {
   "cell_type": "code",
   "execution_count": 7,
   "id": "355e5081",
   "metadata": {
    "execution": {
     "iopub.execute_input": "2023-11-10T21:59:59.946946Z",
     "iopub.status.busy": "2023-11-10T21:59:59.946534Z",
     "iopub.status.idle": "2023-11-10T22:00:00.001991Z",
     "shell.execute_reply": "2023-11-10T22:00:00.001106Z"
    },
    "executionInfo": {
     "elapsed": 13,
     "status": "ok",
     "timestamp": 1699032283273,
     "user": {
      "displayName": "Prakash Singh",
      "userId": "12192818067739007778"
     },
     "user_tz": -330
    },
    "id": "_sz2zoMZ8Ci-",
    "outputId": "95db5fa2-5b1d-433c-c661-ceaf9eedf891",
    "papermill": {
     "duration": 0.083123,
     "end_time": "2023-11-10T22:00:00.004382",
     "exception": false,
     "start_time": "2023-11-10T21:59:59.921259",
     "status": "completed"
    },
    "tags": []
   },
   "outputs": [
    {
     "data": {
      "text/plain": [
       "age                   0\n",
       "workclass          2799\n",
       "fnlwgt                0\n",
       "education             0\n",
       "educational-num       0\n",
       "marital-status        0\n",
       "occupation         2809\n",
       "relationship          0\n",
       "race                  0\n",
       "gender                0\n",
       "capital-gain          0\n",
       "capital-loss          0\n",
       "hours-per-week        0\n",
       "native-country      857\n",
       "income                0\n",
       "dtype: int64"
      ]
     },
     "execution_count": 7,
     "metadata": {},
     "output_type": "execute_result"
    }
   ],
   "source": [
    "df.isnull().sum() # count of no. of null values present in each columns."
   ]
  },
  {
   "cell_type": "markdown",
   "id": "ee70ecda",
   "metadata": {
    "id": "z1eILsHzJil2",
    "papermill": {
     "duration": 0.024055,
     "end_time": "2023-11-10T22:00:00.053296",
     "exception": false,
     "start_time": "2023-11-10T22:00:00.029241",
     "status": "completed"
    },
    "tags": []
   },
   "source": [
    "surprise !!!  initially when we did df.head we seen that only two columns contains \"?\" but now we can say that original dataset have three columns contain '?'.\n",
    "\n",
    "Okay, so we have our results. There are three columns with some missing values:\n",
    "\n",
    "workclass = 2799 missing\n",
    "\n",
    "occupation = 2809 missing\n",
    "\n",
    "native.country = 857 missing\n",
    "\n",
    "Hmm, the count of missing values in workclass and occupation column seem to be pretty close. That can’t be a coincidence, can it? Let’s put our detective hats on again:"
   ]
  },
  {
   "cell_type": "code",
   "execution_count": 8,
   "id": "7632319f",
   "metadata": {
    "execution": {
     "iopub.execute_input": "2023-11-10T22:00:00.115226Z",
     "iopub.status.busy": "2023-11-10T22:00:00.114700Z",
     "iopub.status.idle": "2023-11-10T22:00:00.139706Z",
     "shell.execute_reply": "2023-11-10T22:00:00.138804Z"
    },
    "executionInfo": {
     "elapsed": 11,
     "status": "ok",
     "timestamp": 1699032283273,
     "user": {
      "displayName": "Prakash Singh",
      "userId": "12192818067739007778"
     },
     "user_tz": -330
    },
    "id": "hDDkA0oLE_6-",
    "outputId": "a6abb671-61d8-4861-cab4-f036fac83baf",
    "papermill": {
     "duration": 0.06327,
     "end_time": "2023-11-10T22:00:00.142631",
     "exception": false,
     "start_time": "2023-11-10T22:00:00.079361",
     "status": "completed"
    },
    "tags": []
   },
   "outputs": [
    {
     "data": {
      "text/plain": [
       "2799"
      ]
     },
     "execution_count": 8,
     "metadata": {},
     "output_type": "execute_result"
    }
   ],
   "source": [
    "len(df.loc[ (df['occupation'].isnull()) & ((df['workclass'].isnull()))])"
   ]
  },
  {
   "cell_type": "markdown",
   "id": "c48b8f7a",
   "metadata": {
    "id": "9BiHP7RPIEdQ",
    "papermill": {
     "duration": 0.027042,
     "end_time": "2023-11-10T22:00:00.204500",
     "exception": false,
     "start_time": "2023-11-10T22:00:00.177458",
     "status": "completed"
    },
    "tags": []
   },
   "source": [
    "Since the intersection of data points with missing occupation and missing workclass is the same as the number of data points with missing workclass, we know that where ever occupation is missing, workclass is too.\n",
    "\n",
    "Now i need to handle missing value\n",
    "we have several options for handling them:\n",
    "\n",
    "Imputation: we can fill in missing values with appropriate data. Common methods include filling missing values with the mean, median, mode, or specific values.\n",
    "\n",
    "Dropping Rows: If the number of rows with missing values is relatively small, we can choose to drop those rows using the dropna() method. But this approach, can lead to data loss\n",
    "\n",
    "Dropping Columns: In some cases, we might need to drop entire columns with a high percentage of missing values using the drop() method.\n",
    "\n",
    "There are many more methods i have mentioned some of them.\n",
    "\n",
    "Since in our case we have less missing value campare to total no. of row and again for making things simple for now, we can choose dropping rows"
   ]
  },
  {
   "cell_type": "code",
   "execution_count": 9,
   "id": "25b4090e",
   "metadata": {
    "execution": {
     "iopub.execute_input": "2023-11-10T22:00:00.260040Z",
     "iopub.status.busy": "2023-11-10T22:00:00.259453Z",
     "iopub.status.idle": "2023-11-10T22:00:00.380584Z",
     "shell.execute_reply": "2023-11-10T22:00:00.379353Z"
    },
    "executionInfo": {
     "elapsed": 10,
     "status": "ok",
     "timestamp": 1699032283273,
     "user": {
      "displayName": "Prakash Singh",
      "userId": "12192818067739007778"
     },
     "user_tz": -330
    },
    "id": "3g20X2G41RrN",
    "papermill": {
     "duration": 0.150468,
     "end_time": "2023-11-10T22:00:00.383207",
     "exception": false,
     "start_time": "2023-11-10T22:00:00.232739",
     "status": "completed"
    },
    "tags": []
   },
   "outputs": [],
   "source": [
    "df.dropna(inplace = True)\n",
    "# Now we tackled with missing data\n",
    "# check for duplicates\n",
    "df.drop_duplicates(inplace=True)"
   ]
  },
  {
   "cell_type": "markdown",
   "id": "35dea78c",
   "metadata": {
    "id": "yyI6q7E_0cL7",
    "papermill": {
     "duration": 0.024182,
     "end_time": "2023-11-10T22:00:00.432233",
     "exception": false,
     "start_time": "2023-11-10T22:00:00.408051",
     "status": "completed"
    },
    "tags": []
   },
   "source": [
    "**In statistics**\n",
    "we have two type of data\n",
    "1.  Qualitative\n",
    "\n",
    "    a.  Nominal data    (not ordered(hair color, Gender, etc))\n",
    "\n",
    "    b.  ordinal data    (Grade (A to F) or Health(good, normal, bad), etc.\n",
    "2.  Quantitative\n",
    "\n",
    "    a.  Discreate   (The no. of student in a class)\n",
    "    \n",
    "    b.  Continuous  ( Height of students in a class)\n",
    "\n",
    "Based on this we can divide our given dataset columns.\n",
    "1.  Age: Discrete (from 17 to 90)\n",
    "2.  Work class (Private, Federal-Government, etc): Nominal (9 categories)\n",
    "3.  Final Weight (the number of people the census believes the entry represents): Discrete\n",
    "4.  Education (the highest level of education obtained): Ordinal (16 categories)\n",
    "5.  Education Number (the number of years of education): Discrete (from 1 to 16)\n",
    "6.  Marital Status: Nominal (7 categories)\n",
    "7.  Occupation (Transport-Moving, Craft-Repair, etc): Nominal (15 categories)\n",
    "8.  Relationship in family (unmarried, not in the family, etc): Nominal (6 categories)\n",
    "9.  Race: Nominal (5 categories)\n",
    "10. Gender: Nominal (2 categories)\n",
    "11. Capital Gain: Continous\n",
    "12. Capital Loss: Continous\n",
    "13. Hours (worked) per week: Discrete (from 1 to 99)\n",
    "14. Native Country: Nominal (42 countries)\n",
    "15. Income (whether or not an individual makes more than $50,000 annually): Boolean (≤$50k, >$50k)\n",
    "\n",
    "\n"
   ]
  },
  {
   "cell_type": "markdown",
   "id": "9442dd3d",
   "metadata": {
    "id": "1Lh74u2ANHUI",
    "papermill": {
     "duration": 0.024242,
     "end_time": "2023-11-10T22:00:00.480848",
     "exception": false,
     "start_time": "2023-11-10T22:00:00.456606",
     "status": "completed"
    },
    "tags": []
   },
   "source": [
    "**Data Visualization**"
   ]
  },
  {
   "cell_type": "code",
   "execution_count": 10,
   "id": "99460114",
   "metadata": {
    "execution": {
     "iopub.execute_input": "2023-11-10T22:00:00.543323Z",
     "iopub.status.busy": "2023-11-10T22:00:00.542123Z",
     "iopub.status.idle": "2023-11-10T22:00:00.590542Z",
     "shell.execute_reply": "2023-11-10T22:00:00.589711Z"
    },
    "executionInfo": {
     "elapsed": 10,
     "status": "ok",
     "timestamp": 1699032283273,
     "user": {
      "displayName": "Prakash Singh",
      "userId": "12192818067739007778"
     },
     "user_tz": -330
    },
    "id": "lhgZfk_V4WB7",
    "outputId": "ea87aa9b-59f3-4c0e-c62b-7ff5f39bfa10",
    "papermill": {
     "duration": 0.079971,
     "end_time": "2023-11-10T22:00:00.592876",
     "exception": false,
     "start_time": "2023-11-10T22:00:00.512905",
     "status": "completed"
    },
    "tags": []
   },
   "outputs": [
    {
     "data": {
      "text/html": [
       "<div>\n",
       "<style scoped>\n",
       "    .dataframe tbody tr th:only-of-type {\n",
       "        vertical-align: middle;\n",
       "    }\n",
       "\n",
       "    .dataframe tbody tr th {\n",
       "        vertical-align: top;\n",
       "    }\n",
       "\n",
       "    .dataframe thead th {\n",
       "        text-align: right;\n",
       "    }\n",
       "</style>\n",
       "<table border=\"1\" class=\"dataframe\">\n",
       "  <thead>\n",
       "    <tr style=\"text-align: right;\">\n",
       "      <th></th>\n",
       "      <th>age</th>\n",
       "      <th>fnlwgt</th>\n",
       "      <th>educational-num</th>\n",
       "      <th>capital-gain</th>\n",
       "      <th>capital-loss</th>\n",
       "      <th>hours-per-week</th>\n",
       "    </tr>\n",
       "  </thead>\n",
       "  <tbody>\n",
       "    <tr>\n",
       "      <th>count</th>\n",
       "      <td>45175.000000</td>\n",
       "      <td>4.517500e+04</td>\n",
       "      <td>45175.000000</td>\n",
       "      <td>45175.000000</td>\n",
       "      <td>45175.000000</td>\n",
       "      <td>45175.000000</td>\n",
       "    </tr>\n",
       "    <tr>\n",
       "      <th>mean</th>\n",
       "      <td>38.556170</td>\n",
       "      <td>1.897388e+05</td>\n",
       "      <td>10.119314</td>\n",
       "      <td>1102.576270</td>\n",
       "      <td>88.687593</td>\n",
       "      <td>40.942512</td>\n",
       "    </tr>\n",
       "    <tr>\n",
       "      <th>std</th>\n",
       "      <td>13.215349</td>\n",
       "      <td>1.056524e+05</td>\n",
       "      <td>2.551740</td>\n",
       "      <td>7510.249876</td>\n",
       "      <td>405.156611</td>\n",
       "      <td>12.007730</td>\n",
       "    </tr>\n",
       "    <tr>\n",
       "      <th>min</th>\n",
       "      <td>17.000000</td>\n",
       "      <td>1.349200e+04</td>\n",
       "      <td>1.000000</td>\n",
       "      <td>0.000000</td>\n",
       "      <td>0.000000</td>\n",
       "      <td>1.000000</td>\n",
       "    </tr>\n",
       "    <tr>\n",
       "      <th>25%</th>\n",
       "      <td>28.000000</td>\n",
       "      <td>1.173925e+05</td>\n",
       "      <td>9.000000</td>\n",
       "      <td>0.000000</td>\n",
       "      <td>0.000000</td>\n",
       "      <td>40.000000</td>\n",
       "    </tr>\n",
       "    <tr>\n",
       "      <th>50%</th>\n",
       "      <td>37.000000</td>\n",
       "      <td>1.783120e+05</td>\n",
       "      <td>10.000000</td>\n",
       "      <td>0.000000</td>\n",
       "      <td>0.000000</td>\n",
       "      <td>40.000000</td>\n",
       "    </tr>\n",
       "    <tr>\n",
       "      <th>75%</th>\n",
       "      <td>47.000000</td>\n",
       "      <td>2.379030e+05</td>\n",
       "      <td>13.000000</td>\n",
       "      <td>0.000000</td>\n",
       "      <td>0.000000</td>\n",
       "      <td>45.000000</td>\n",
       "    </tr>\n",
       "    <tr>\n",
       "      <th>max</th>\n",
       "      <td>90.000000</td>\n",
       "      <td>1.490400e+06</td>\n",
       "      <td>16.000000</td>\n",
       "      <td>99999.000000</td>\n",
       "      <td>4356.000000</td>\n",
       "      <td>99.000000</td>\n",
       "    </tr>\n",
       "  </tbody>\n",
       "</table>\n",
       "</div>"
      ],
      "text/plain": [
       "                age        fnlwgt  educational-num  capital-gain  \\\n",
       "count  45175.000000  4.517500e+04     45175.000000  45175.000000   \n",
       "mean      38.556170  1.897388e+05        10.119314   1102.576270   \n",
       "std       13.215349  1.056524e+05         2.551740   7510.249876   \n",
       "min       17.000000  1.349200e+04         1.000000      0.000000   \n",
       "25%       28.000000  1.173925e+05         9.000000      0.000000   \n",
       "50%       37.000000  1.783120e+05        10.000000      0.000000   \n",
       "75%       47.000000  2.379030e+05        13.000000      0.000000   \n",
       "max       90.000000  1.490400e+06        16.000000  99999.000000   \n",
       "\n",
       "       capital-loss  hours-per-week  \n",
       "count  45175.000000    45175.000000  \n",
       "mean      88.687593       40.942512  \n",
       "std      405.156611       12.007730  \n",
       "min        0.000000        1.000000  \n",
       "25%        0.000000       40.000000  \n",
       "50%        0.000000       40.000000  \n",
       "75%        0.000000       45.000000  \n",
       "max     4356.000000       99.000000  "
      ]
     },
     "execution_count": 10,
     "metadata": {},
     "output_type": "execute_result"
    }
   ],
   "source": [
    "df.describe() # It gives the descriptive statistics about numerical columns."
   ]
  },
  {
   "cell_type": "markdown",
   "id": "58939e33",
   "metadata": {
    "id": "u2aaYJtYe_sw",
    "papermill": {
     "duration": 0.024257,
     "end_time": "2023-11-10T22:00:00.642004",
     "exception": false,
     "start_time": "2023-11-10T22:00:00.617747",
     "status": "completed"
    },
    "tags": []
   },
   "source": [
    "**Univariate Analysist**\n",
    "\n",
    "**Income Distribution**\n"
   ]
  },
  {
   "cell_type": "code",
   "execution_count": 11,
   "id": "feda7a2c",
   "metadata": {
    "execution": {
     "iopub.execute_input": "2023-11-10T22:00:00.694595Z",
     "iopub.status.busy": "2023-11-10T22:00:00.693616Z",
     "iopub.status.idle": "2023-11-10T22:00:00.904726Z",
     "shell.execute_reply": "2023-11-10T22:00:00.903452Z"
    },
    "executionInfo": {
     "elapsed": 499,
     "status": "ok",
     "timestamp": 1699032283763,
     "user": {
      "displayName": "Prakash Singh",
      "userId": "12192818067739007778"
     },
     "user_tz": -330
    },
    "id": "C9VY_BzJ147c",
    "outputId": "13adb42f-adde-4b19-c942-badf0bba177d",
    "papermill": {
     "duration": 0.242315,
     "end_time": "2023-11-10T22:00:00.909155",
     "exception": false,
     "start_time": "2023-11-10T22:00:00.666840",
     "status": "completed"
    },
    "tags": []
   },
   "outputs": [
    {
     "name": "stdout",
     "output_type": "stream",
     "text": [
      "income\n",
      "<=50K    33973\n",
      ">50K     11202\n",
      "Name: count, dtype: int64\n"
     ]
    },
    {
     "data": {
      "text/plain": [
       "<Axes: ylabel='count'>"
      ]
     },
     "execution_count": 11,
     "metadata": {},
     "output_type": "execute_result"
    },
    {
     "data": {
      "image/png": "[encoded data removed]",
      "text/plain": [
       "<Figure size 640x480 with 1 Axes>"
      ]
     },
     "metadata": {},
     "output_type": "display_data"
    }
   ],
   "source": [
    "\n",
    "print(df['income'].value_counts())\n",
    "df['income'].value_counts().plot.pie(autopct= '%1.1f%%')"
   ]
  },
  {
   "cell_type": "markdown",
   "id": "c5fd2537",
   "metadata": {
    "id": "ySwUVhrS4Ks6",
    "papermill": {
     "duration": 0.025868,
     "end_time": "2023-11-10T22:00:00.990191",
     "exception": false,
     "start_time": "2023-11-10T22:00:00.964323",
     "status": "completed"
    },
    "tags": []
   },
   "source": [
    "we can clearly see that adults with income less than 50000 are almost 3 times greater than adults with income greater than 50000.\n",
    "\n",
    "**Age Distribution**"
   ]
  },
  {
   "cell_type": "code",
   "execution_count": 12,
   "id": "642d6035",
   "metadata": {
    "execution": {
     "iopub.execute_input": "2023-11-10T22:00:01.043550Z",
     "iopub.status.busy": "2023-11-10T22:00:01.043090Z",
     "iopub.status.idle": "2023-11-10T22:00:01.310532Z",
     "shell.execute_reply": "2023-11-10T22:00:01.309132Z"
    },
    "executionInfo": {
     "elapsed": 10,
     "status": "ok",
     "timestamp": 1699032283764,
     "user": {
      "displayName": "Prakash Singh",
      "userId": "12192818067739007778"
     },
     "user_tz": -330
    },
    "id": "L1r0lEGkb_dl",
    "outputId": "8b2fc4e9-4d7c-4781-d2ba-c853e1e79ebb",
    "papermill": {
     "duration": 0.29704,
     "end_time": "2023-11-10T22:00:01.312988",
     "exception": false,
     "start_time": "2023-11-10T22:00:01.015948",
     "status": "completed"
    },
    "tags": []
   },
   "outputs": [
    {
     "data": {
      "text/plain": [
       "Text(0, 0.5, 'count')"
      ]
     },
     "execution_count": 12,
     "metadata": {},
     "output_type": "execute_result"
    },
    {
     "data": {
      "image/png": "[encoded data removed]",
      "text/plain": [
       "<Figure size 640x480 with 1 Axes>"
      ]
     },
     "metadata": {},
     "output_type": "display_data"
    }
   ],
   "source": [
    "df['age'].hist()\n",
    "plt.xlabel('age')\n",
    "plt.ylabel('count')"
   ]
  },
  {
   "cell_type": "markdown",
   "id": "4de88be2",
   "metadata": {
    "id": "_TP_qvNGdy_a",
    "papermill": {
     "duration": 0.025611,
     "end_time": "2023-11-10T22:00:01.364936",
     "exception": false,
     "start_time": "2023-11-10T22:00:01.339325",
     "status": "completed"
    },
    "tags": []
   },
   "source": [
    "By observation age attribute is right-skewed and not symetric. min and max age in btw 17 to 90.\n",
    "\n",
    "**Final Weight Distribution**"
   ]
  },
  {
   "cell_type": "code",
   "execution_count": 13,
   "id": "72e2c752",
   "metadata": {
    "execution": {
     "iopub.execute_input": "2023-11-10T22:00:01.418713Z",
     "iopub.status.busy": "2023-11-10T22:00:01.418299Z",
     "iopub.status.idle": "2023-11-10T22:00:01.689433Z",
     "shell.execute_reply": "2023-11-10T22:00:01.688440Z"
    },
    "executionInfo": {
     "elapsed": 532,
     "status": "ok",
     "timestamp": 1699032284288,
     "user": {
      "displayName": "Prakash Singh",
      "userId": "12192818067739007778"
     },
     "user_tz": -330
    },
    "id": "vlURM7H2foVS",
    "outputId": "078b7a8c-1a3f-4599-94db-a05739d9dbdb",
    "papermill": {
     "duration": 0.300652,
     "end_time": "2023-11-10T22:00:01.691678",
     "exception": false,
     "start_time": "2023-11-10T22:00:01.391026",
     "status": "completed"
    },
    "tags": []
   },
   "outputs": [
    {
     "data": {
      "text/plain": [
       "Text(0, 0.5, 'count')"
      ]
     },
     "execution_count": 13,
     "metadata": {},
     "output_type": "execute_result"
    },
    {
     "data": {
      "image/png": "[encoded data removed]",
      "text/plain": [
       "<Figure size 600x400 with 1 Axes>"
      ]
     },
     "metadata": {},
     "output_type": "display_data"
    }
   ],
   "source": [
    "df['fnlwgt'].hist(figsize=(6,4))\n",
    "plt.xlabel('fnlwgt')\n",
    "plt.ylabel('count')"
   ]
  },
  {
   "cell_type": "markdown",
   "id": "bbb81c45",
   "metadata": {
    "id": "xeHNsMsRgCAe",
    "papermill": {
     "duration": 0.026661,
     "end_time": "2023-11-10T22:00:01.745119",
     "exception": false,
     "start_time": "2023-11-10T22:00:01.718458",
     "status": "completed"
    },
    "tags": []
   },
   "source": [
    "I also seems like Rightly skewed.\n",
    "\n",
    "**Capital-gain Distribution**"
   ]
  },
  {
   "cell_type": "code",
   "execution_count": 14,
   "id": "06f1964a",
   "metadata": {
    "execution": {
     "iopub.execute_input": "2023-11-10T22:00:01.800001Z",
     "iopub.status.busy": "2023-11-10T22:00:01.799629Z",
     "iopub.status.idle": "2023-11-10T22:00:02.018303Z",
     "shell.execute_reply": "2023-11-10T22:00:02.017059Z"
    },
    "executionInfo": {
     "elapsed": 12,
     "status": "ok",
     "timestamp": 1699032284288,
     "user": {
      "displayName": "Prakash Singh",
      "userId": "12192818067739007778"
     },
     "user_tz": -330
    },
    "id": "Jal7l_RPfomt",
    "outputId": "1beccbf5-fe8f-4728-96cc-bfe7d2c57589",
    "papermill": {
     "duration": 0.249388,
     "end_time": "2023-11-10T22:00:02.020983",
     "exception": false,
     "start_time": "2023-11-10T22:00:01.771595",
     "status": "completed"
    },
    "tags": []
   },
   "outputs": [
    {
     "data": {
      "text/plain": [
       "Text(0, 0.5, 'count')"
      ]
     },
     "execution_count": 14,
     "metadata": {},
     "output_type": "execute_result"
    },
    {
     "data": {
      "image/png": "[encoded data removed]",
      "text/plain": [
       "<Figure size 600x400 with 1 Axes>"
      ]
     },
     "metadata": {},
     "output_type": "display_data"
    }
   ],
   "source": [
    "df['capital-gain'].hist(figsize=(6,4))\n",
    "plt.xlabel('capital-gain')\n",
    "plt.ylabel('count')"
   ]
  },
  {
   "cell_type": "markdown",
   "id": "b408f9e2",
   "metadata": {
    "id": "A8UtY53IgOC3",
    "papermill": {
     "duration": 0.02746,
     "end_time": "2023-11-10T22:00:02.076355",
     "exception": false,
     "start_time": "2023-11-10T22:00:02.048895",
     "status": "completed"
    },
    "tags": []
   },
   "source": [
    "capital-gain shows that either a person has no gain or has gain of very large amount(10k or 99k). Also from df.describe() we can see that most of value are zero, so we can even remove this, we can have two approach that with or without this features can then can take the better one, but here again for simplicity we will remove this column, this column does not making significant role in result, since most of the values is zero.\n",
    "\n",
    "**Capital-loss Distribution**"
   ]
  },
  {
   "cell_type": "code",
   "execution_count": 15,
   "id": "386420e1",
   "metadata": {
    "execution": {
     "iopub.execute_input": "2023-11-10T22:00:02.134874Z",
     "iopub.status.busy": "2023-11-10T22:00:02.133852Z",
     "iopub.status.idle": "2023-11-10T22:00:02.345592Z",
     "shell.execute_reply": "2023-11-10T22:00:02.344565Z"
    },
    "executionInfo": {
     "elapsed": 9,
     "status": "ok",
     "timestamp": 1699032284288,
     "user": {
      "displayName": "Prakash Singh",
      "userId": "12192818067739007778"
     },
     "user_tz": -330
    },
    "id": "XSwNSmkYfo0R",
    "outputId": "64068073-7289-432e-f06e-fe79536912ca",
    "papermill": {
     "duration": 0.243839,
     "end_time": "2023-11-10T22:00:02.348143",
     "exception": false,
     "start_time": "2023-11-10T22:00:02.104304",
     "status": "completed"
    },
    "tags": []
   },
   "outputs": [
    {
     "data": {
      "text/plain": [
       "Text(0, 0.5, 'count')"
      ]
     },
     "execution_count": 15,
     "metadata": {},
     "output_type": "execute_result"
    },
    {
     "data": {
      "image/png": "[encoded data removed]",
      "text/plain": [
       "<Figure size 600x400 with 1 Axes>"
      ]
     },
     "metadata": {},
     "output_type": "display_data"
    }
   ],
   "source": [
    "df['capital-loss'].hist(figsize=(6,4))\n",
    "plt.xlabel('capital-loss')\n",
    "plt.ylabel('count')"
   ]
  },
  {
   "cell_type": "markdown",
   "id": "55437d11",
   "metadata": {
    "id": "K4DYnAjchYZ5",
    "papermill": {
     "duration": 0.027384,
     "end_time": "2023-11-10T22:00:02.402949",
     "exception": false,
     "start_time": "2023-11-10T22:00:02.375565",
     "status": "completed"
    },
    "tags": []
   },
   "source": [
    "It is also similar to captain-gain we can also remove this feature too. as most of the rows have value zero.\n",
    "\n",
    "**hours-per-week Distribution**"
   ]
  },
  {
   "cell_type": "code",
   "execution_count": 16,
   "id": "4dde7376",
   "metadata": {
    "execution": {
     "iopub.execute_input": "2023-11-10T22:00:02.459860Z",
     "iopub.status.busy": "2023-11-10T22:00:02.459460Z",
     "iopub.status.idle": "2023-11-10T22:00:02.682975Z",
     "shell.execute_reply": "2023-11-10T22:00:02.681857Z"
    },
    "executionInfo": {
     "elapsed": 480,
     "status": "ok",
     "timestamp": 1699032284763,
     "user": {
      "displayName": "Prakash Singh",
      "userId": "12192818067739007778"
     },
     "user_tz": -330
    },
    "id": "1lcq5jScfo_L",
    "outputId": "fa16a184-e374-4975-9ce0-4012b1f856c1",
    "papermill": {
     "duration": 0.254827,
     "end_time": "2023-11-10T22:00:02.685445",
     "exception": false,
     "start_time": "2023-11-10T22:00:02.430618",
     "status": "completed"
    },
    "tags": []
   },
   "outputs": [
    {
     "data": {
      "text/plain": [
       "Text(0, 0.5, 'count')"
      ]
     },
     "execution_count": 16,
     "metadata": {},
     "output_type": "execute_result"
    },
    {
     "data": {
      "image/png": "[encoded data removed]",
      "text/plain": [
       "<Figure size 600x400 with 1 Axes>"
      ]
     },
     "metadata": {},
     "output_type": "display_data"
    }
   ],
   "source": [
    "df['hours-per-week'].hist(figsize=(6,4))\n",
    "plt.xlabel('hours-per-week')\n",
    "plt.ylabel('count')"
   ]
  },
  {
   "cell_type": "markdown",
   "id": "4d69f4d6",
   "metadata": {
    "id": "y5XPiEi9uE-y",
    "papermill": {
     "duration": 0.027921,
     "end_time": "2023-11-10T22:00:02.741975",
     "exception": false,
     "start_time": "2023-11-10T22:00:02.714054",
     "status": "completed"
    },
    "tags": []
   },
   "source": [
    "So from graph we can see that hours per week is seems like slightly normally distrubuted with max count for work hourk between 30-40 with count around 25000\n",
    "There are also few people who works 80-100 hours per week and some less than 20 which is unusual.\n",
    "\n",
    "**Workclass Distribution**"
   ]
  },
  {
   "cell_type": "code",
   "execution_count": 17,
   "id": "0c62cd41",
   "metadata": {
    "execution": {
     "iopub.execute_input": "2023-11-10T22:00:02.800305Z",
     "iopub.status.busy": "2023-11-10T22:00:02.799195Z",
     "iopub.status.idle": "2023-11-10T22:00:03.101813Z",
     "shell.execute_reply": "2023-11-10T22:00:03.100708Z"
    },
    "executionInfo": {
     "elapsed": 5,
     "status": "ok",
     "timestamp": 1699032284764,
     "user": {
      "displayName": "Prakash Singh",
      "userId": "12192818067739007778"
     },
     "user_tz": -330
    },
    "id": "Dm_AjjIHw0X_",
    "outputId": "abc186d2-0c8a-44c9-bec8-267ccefc4274",
    "papermill": {
     "duration": 0.333996,
     "end_time": "2023-11-10T22:00:03.104344",
     "exception": false,
     "start_time": "2023-11-10T22:00:02.770348",
     "status": "completed"
    },
    "tags": []
   },
   "outputs": [
    {
     "data": {
      "image/png": "[encoded data removed]",
      "text/plain": [
       "<Figure size 1200x400 with 1 Axes>"
      ]
     },
     "metadata": {},
     "output_type": "display_data"
    }
   ],
   "source": [
    "plt.figure(figsize=(12,4))\n",
    "\n",
    "total = float(len(df['income']))\n",
    "\n",
    "a = sns.countplot(x='workclass',data=df)\n",
    "\n",
    "for f in a.patches:\n",
    "    height = f.get_height()\n",
    "    a.text(f.get_x() + f.get_width()/2., height+3, '{:1.2f}'.format((height/total)*100),ha=\"center\")"
   ]
  },
  {
   "cell_type": "markdown",
   "id": "904b023b",
   "metadata": {
    "id": "oHGTz4jNxNE7",
    "papermill": {
     "duration": 0.02847,
     "end_time": "2023-11-10T22:00:03.166304",
     "exception": false,
     "start_time": "2023-11-10T22:00:03.137834",
     "status": "completed"
    },
    "tags": []
   },
   "source": [
    "Most of them are form private workclass with around 75% and rest all have less contribution compare to private with without-pay as least count of around 0.05% of total count.\n",
    "\n",
    "**Education Distribution**"
   ]
  },
  {
   "cell_type": "code",
   "execution_count": 18,
   "id": "3b62b72b",
   "metadata": {
    "execution": {
     "iopub.execute_input": "2023-11-10T22:00:03.225797Z",
     "iopub.status.busy": "2023-11-10T22:00:03.225421Z",
     "iopub.status.idle": "2023-11-10T22:00:03.651509Z",
     "shell.execute_reply": "2023-11-10T22:00:03.650298Z"
    },
    "executionInfo": {
     "elapsed": 481,
     "status": "ok",
     "timestamp": 1699032285241,
     "user": {
      "displayName": "Prakash Singh",
      "userId": "12192818067739007778"
     },
     "user_tz": -330
    },
    "id": "9ROQeoIOw0au",
    "outputId": "f9eb7528-c3ad-4a95-8a8d-aef0083a686c",
    "papermill": {
     "duration": 0.45876,
     "end_time": "2023-11-10T22:00:03.654021",
     "exception": false,
     "start_time": "2023-11-10T22:00:03.195261",
     "status": "completed"
    },
    "tags": []
   },
   "outputs": [
    {
     "data": {
      "image/png": "[encoded data removed]",
      "text/plain": [
       "<Figure size 1800x400 with 1 Axes>"
      ]
     },
     "metadata": {},
     "output_type": "display_data"
    }
   ],
   "source": [
    "plt.figure(figsize=(18,4))\n",
    "\n",
    "a= float(len(['income']))\n",
    "\n",
    "a= sns.countplot(x='education',data=df)\n",
    "for s in a.patches:\n",
    "    height = s.get_height()\n",
    "    a.text(s.get_x()+s.get_width()/2.,height+3,'{:1.2f}'.format((height/total)*100),ha='center')"
   ]
  },
  {
   "cell_type": "markdown",
   "id": "d5b98729",
   "metadata": {
    "id": "KlZ5fg-p0o3F",
    "papermill": {
     "duration": 0.028812,
     "end_time": "2023-11-10T22:00:03.712593",
     "exception": false,
     "start_time": "2023-11-10T22:00:03.683781",
     "status": "completed"
    },
    "tags": []
   },
   "source": [
    "HS-grad has highest no of adults and preschool have lowest.\n",
    "\n",
    "**marital-status Distribution:**"
   ]
  },
  {
   "cell_type": "code",
   "execution_count": 19,
   "id": "a1a8f543",
   "metadata": {
    "execution": {
     "iopub.execute_input": "2023-11-10T22:00:03.772856Z",
     "iopub.status.busy": "2023-11-10T22:00:03.772181Z",
     "iopub.status.idle": "2023-11-10T22:00:04.091472Z",
     "shell.execute_reply": "2023-11-10T22:00:04.090332Z"
    },
    "executionInfo": {
     "elapsed": 5,
     "status": "ok",
     "timestamp": 1699032285241,
     "user": {
      "displayName": "Prakash Singh",
      "userId": "12192818067739007778"
     },
     "user_tz": -330
    },
    "id": "9iXsnjn-w0do",
    "outputId": "97a5db33-3f11-458e-81cd-6e378a8efffe",
    "papermill": {
     "duration": 0.352341,
     "end_time": "2023-11-10T22:00:04.094124",
     "exception": false,
     "start_time": "2023-11-10T22:00:03.741783",
     "status": "completed"
    },
    "tags": []
   },
   "outputs": [
    {
     "data": {
      "image/png": "[encoded data removed]",
      "text/plain": [
       "<Figure size 1500x400 with 1 Axes>"
      ]
     },
     "metadata": {},
     "output_type": "display_data"
    }
   ],
   "source": [
    "plt.figure(figsize=(15,4))\n",
    "total = float(len(df) )\n",
    "a = sns.countplot(x=\"marital-status\", data=df)\n",
    "for p in a.patches:\n",
    "    height = p.get_height()\n",
    "    a.text(p.get_x()+p.get_width()/2.,\n",
    "            height + 3,'{:1.2f}'.format((height/total)*100),ha=\"center\")"
   ]
  },
  {
   "cell_type": "markdown",
   "id": "a63c44ff",
   "metadata": {
    "id": "x0eWexWv2AYU",
    "papermill": {
     "duration": 0.031528,
     "end_time": "2023-11-10T22:00:04.155601",
     "exception": false,
     "start_time": "2023-11-10T22:00:04.124073",
     "status": "completed"
    },
    "tags": []
   },
   "source": [
    "Married-civ-spouse has maximum number of samples. Married-AF-spouse has minimum number of obs.\n",
    "\n",
    "**Occupation Distribution:**"
   ]
  },
  {
   "cell_type": "code",
   "execution_count": 20,
   "id": "af062c0b",
   "metadata": {
    "execution": {
     "iopub.execute_input": "2023-11-10T22:00:04.218057Z",
     "iopub.status.busy": "2023-11-10T22:00:04.217696Z",
     "iopub.status.idle": "2023-11-10T22:00:04.690325Z",
     "shell.execute_reply": "2023-11-10T22:00:04.689215Z"
    },
    "executionInfo": {
     "elapsed": 512,
     "status": "ok",
     "timestamp": 1699032285749,
     "user": {
      "displayName": "Prakash Singh",
      "userId": "12192818067739007778"
     },
     "user_tz": -330
    },
    "id": "SvbexwvDw0gR",
    "outputId": "b0423bf6-9979-4f9d-fee4-a074053d4ffb",
    "papermill": {
     "duration": 0.507419,
     "end_time": "2023-11-10T22:00:04.693151",
     "exception": false,
     "start_time": "2023-11-10T22:00:04.185732",
     "status": "completed"
    },
    "tags": []
   },
   "outputs": [
    {
     "data": {
      "image/png": "[encoded data removed]",
      "text/plain": [
       "<Figure size 1500x400 with 1 Axes>"
      ]
     },
     "metadata": {},
     "output_type": "display_data"
    }
   ],
   "source": [
    "plt.figure(figsize=(15,4))\n",
    "total = float(len(df) )\n",
    "a = sns.countplot(x=\"occupation\", data=df)\n",
    "for p in a.patches:\n",
    "    height = p.get_height()\n",
    "    a.text(p.get_x()+p.get_width()/2.,height + 3,'{:1.2f}'.format((height/total)*100),ha=\"center\")\n",
    "a.set_xticklabels(a.get_xticklabels(), rotation=60)\n",
    "plt.show()"
   ]
  },
  {
   "cell_type": "markdown",
   "id": "adc0121e",
   "metadata": {
    "id": "80-ahZHR30Cg",
    "papermill": {
     "duration": 0.031257,
     "end_time": "2023-11-10T22:00:04.756014",
     "exception": false,
     "start_time": "2023-11-10T22:00:04.724757",
     "status": "completed"
    },
    "tags": []
   },
   "source": [
    "craft-repair has the maximum count. Armed-Forces has minimum samples in the occupation attribute.\n",
    "\n",
    "**Relationship Distribution**"
   ]
  },
  {
   "cell_type": "code",
   "execution_count": 21,
   "id": "f92af845",
   "metadata": {
    "execution": {
     "iopub.execute_input": "2023-11-10T22:00:04.820307Z",
     "iopub.status.busy": "2023-11-10T22:00:04.819674Z",
     "iopub.status.idle": "2023-11-10T22:00:05.115892Z",
     "shell.execute_reply": "2023-11-10T22:00:05.114368Z"
    },
    "executionInfo": {
     "elapsed": 965,
     "status": "ok",
     "timestamp": 1699032286710,
     "user": {
      "displayName": "Prakash Singh",
      "userId": "12192818067739007778"
     },
     "user_tz": -330
    },
    "id": "Ehj-bFwDw0jn",
    "outputId": "520b8c4a-12be-470c-a9a7-bd855303c8e6",
    "papermill": {
     "duration": 0.331033,
     "end_time": "2023-11-10T22:00:05.118070",
     "exception": false,
     "start_time": "2023-11-10T22:00:04.787037",
     "status": "completed"
    },
    "tags": []
   },
   "outputs": [
    {
     "data": {
      "image/png": "[encoded data removed]",
      "text/plain": [
       "<Figure size 1200x400 with 1 Axes>"
      ]
     },
     "metadata": {},
     "output_type": "display_data"
    }
   ],
   "source": [
    "plt.figure(figsize=(12,4))\n",
    "total = float(len(df) )\n",
    "a = sns.countplot(x=\"relationship\", data=df)\n",
    "for p in a.patches:\n",
    "    height = p.get_height()\n",
    "    a.text(p.get_x()+p.get_width()/2.,height + 3,'{:1.2f}'.format((height/total)*100),ha=\"center\")"
   ]
  },
  {
   "cell_type": "markdown",
   "id": "cd5ce411",
   "metadata": {
    "id": "Ejc-l1Jx5K0b",
    "papermill": {
     "duration": 0.030544,
     "end_time": "2023-11-10T22:00:05.181555",
     "exception": false,
     "start_time": "2023-11-10T22:00:05.151011",
     "status": "completed"
    },
    "tags": []
   },
   "source": [
    "**Income (Target) Variable Distribution**"
   ]
  },
  {
   "cell_type": "code",
   "execution_count": 22,
   "id": "725368f0",
   "metadata": {
    "execution": {
     "iopub.execute_input": "2023-11-10T22:00:05.247345Z",
     "iopub.status.busy": "2023-11-10T22:00:05.246336Z",
     "iopub.status.idle": "2023-11-10T22:00:05.465762Z",
     "shell.execute_reply": "2023-11-10T22:00:05.464992Z"
    },
    "executionInfo": {
     "elapsed": 15,
     "status": "ok",
     "timestamp": 1699032286711,
     "user": {
      "displayName": "Prakash Singh",
      "userId": "12192818067739007778"
     },
     "user_tz": -330
    },
    "id": "-_3kJdwMw04w",
    "outputId": "ee48c8dd-84df-4a4d-dd30-07330efe5e81",
    "papermill": {
     "duration": 0.254532,
     "end_time": "2023-11-10T22:00:05.467853",
     "exception": false,
     "start_time": "2023-11-10T22:00:05.213321",
     "status": "completed"
    },
    "tags": []
   },
   "outputs": [
    {
     "data": {
      "image/png": "[encoded data removed]",
      "text/plain": [
       "<Figure size 500x400 with 1 Axes>"
      ]
     },
     "metadata": {},
     "output_type": "display_data"
    }
   ],
   "source": [
    "plt.figure(figsize=(5,4))\n",
    "total = float(len(df) )\n",
    "a = sns.countplot(x=\"income\", data=df)\n",
    "for p in a.patches:\n",
    "    height = p.get_height()\n",
    "    a.text(p.get_x()+p.get_width()/2.,height + 3,'{:1.2f}'.format((height/total)*100),ha=\"center\")"
   ]
  },
  {
   "cell_type": "markdown",
   "id": "a3464c35",
   "metadata": {
    "id": "TyrP__wV5pX1",
    "papermill": {
     "duration": 0.031264,
     "end_time": "2023-11-10T22:00:05.531522",
     "exception": false,
     "start_time": "2023-11-10T22:00:05.500258",
     "status": "completed"
    },
    "tags": []
   },
   "source": [
    "In income there is 2 group,group1(who earns more than 50k) 24.80% belong to income and group2(who earns less than 50k) 75.20% belong to income\n",
    "\n",
    "**Bivariate Analysis**\n",
    "\n",
    "**Boxplot(Age relationship with income):**"
   ]
  },
  {
   "cell_type": "code",
   "execution_count": 23,
   "id": "c145aa9e",
   "metadata": {
    "execution": {
     "iopub.execute_input": "2023-11-10T22:00:05.598180Z",
     "iopub.status.busy": "2023-11-10T22:00:05.597026Z",
     "iopub.status.idle": "2023-11-10T22:00:05.875561Z",
     "shell.execute_reply": "2023-11-10T22:00:05.874628Z"
    },
    "executionInfo": {
     "elapsed": 13,
     "status": "ok",
     "timestamp": 1699032286711,
     "user": {
      "displayName": "Prakash Singh",
      "userId": "12192818067739007778"
     },
     "user_tz": -330
    },
    "id": "tFljlwObw08J",
    "outputId": "1c8339d8-1815-4412-a1b5-7f6690133885",
    "papermill": {
     "duration": 0.314668,
     "end_time": "2023-11-10T22:00:05.877818",
     "exception": false,
     "start_time": "2023-11-10T22:00:05.563150",
     "status": "completed"
    },
    "tags": []
   },
   "outputs": [
    {
     "data": {
      "text/plain": [
       "Text(0.5, 1.0, 'Box plot of INCOME and AGE')"
      ]
     },
     "execution_count": 23,
     "metadata": {},
     "output_type": "execute_result"
    },
    {
     "data": {
      "image/png": "[encoded data removed]",
      "text/plain": [
       "<Figure size 500x400 with 1 Axes>"
      ]
     },
     "metadata": {},
     "output_type": "display_data"
    }
   ],
   "source": [
    "plt.figure(figsize=(5,4))\n",
    "sns.boxplot(x='income',y='age',data=df).set_title('Box plot of INCOME and AGE')"
   ]
  },
  {
   "cell_type": "markdown",
   "id": "52087725",
   "metadata": {
    "id": "_xHYOpV16e_2",
    "papermill": {
     "duration": 0.033153,
     "end_time": "2023-11-10T22:00:05.943495",
     "exception": false,
     "start_time": "2023-11-10T22:00:05.910342",
     "status": "completed"
    },
    "tags": []
   },
   "source": [
    "we can observe that the median age for people earning more than 50k is significantly greater than the median of people earning less than 50k. So, older people are more likely to earn more than $50k a year as compared to their younger counterparts."
   ]
  },
  {
   "cell_type": "code",
   "execution_count": 24,
   "id": "6a31463f",
   "metadata": {
    "execution": {
     "iopub.execute_input": "2023-11-10T22:00:06.011849Z",
     "iopub.status.busy": "2023-11-10T22:00:06.011490Z",
     "iopub.status.idle": "2023-11-10T22:00:06.478209Z",
     "shell.execute_reply": "2023-11-10T22:00:06.477158Z"
    },
    "executionInfo": {
     "elapsed": 9,
     "status": "ok",
     "timestamp": 1699032286711,
     "user": {
      "displayName": "Prakash Singh",
      "userId": "12192818067739007778"
     },
     "user_tz": -330
    },
    "id": "OUnvceiO54Yi",
    "outputId": "3c21b92b-a2f2-4faf-b19f-dd9f6c38fd78",
    "papermill": {
     "duration": 0.50395,
     "end_time": "2023-11-10T22:00:06.480718",
     "exception": false,
     "start_time": "2023-11-10T22:00:05.976768",
     "status": "completed"
    },
    "tags": []
   },
   "outputs": [
    {
     "data": {
      "text/plain": [
       "Text(0.5, 1.0, 'workclass vs count')"
      ]
     },
     "execution_count": 24,
     "metadata": {},
     "output_type": "execute_result"
    },
    {
     "data": {
      "image/png": "[encoded data removed]",
      "text/plain": [
       "<Figure size 800x400 with 1 Axes>"
      ]
     },
     "metadata": {},
     "output_type": "display_data"
    }
   ],
   "source": [
    "plt.figure(figsize=(8,4))\n",
    "sns.countplot(x='workclass',hue ='income',data=df).set_title(\"workclass vs count\")"
   ]
  },
  {
   "cell_type": "markdown",
   "id": "e7aeef50",
   "metadata": {
    "id": "cAu_0RHf7gHw",
    "papermill": {
     "duration": 0.033365,
     "end_time": "2023-11-10T22:00:06.547723",
     "exception": false,
     "start_time": "2023-11-10T22:00:06.514358",
     "status": "completed"
    },
    "tags": []
   },
   "source": [
    "n All the workclasses number of people earning less then 50k are more then those earning 50k.\n",
    "\n",
    "**Boxplot (relationship Relationship with income):**"
   ]
  },
  {
   "cell_type": "code",
   "execution_count": 25,
   "id": "0d223e3c",
   "metadata": {
    "execution": {
     "iopub.execute_input": "2023-11-10T22:00:06.615314Z",
     "iopub.status.busy": "2023-11-10T22:00:06.614879Z",
     "iopub.status.idle": "2023-11-10T22:00:07.028709Z",
     "shell.execute_reply": "2023-11-10T22:00:07.027542Z"
    },
    "executionInfo": {
     "elapsed": 591,
     "status": "ok",
     "timestamp": 1699032287295,
     "user": {
      "displayName": "Prakash Singh",
      "userId": "12192818067739007778"
     },
     "user_tz": -330
    },
    "id": "4gTgZbW_54bZ",
    "outputId": "f243c44c-7ca1-4a18-91b8-062980fc0671",
    "papermill": {
     "duration": 0.450491,
     "end_time": "2023-11-10T22:00:07.031130",
     "exception": false,
     "start_time": "2023-11-10T22:00:06.580639",
     "status": "completed"
    },
    "tags": []
   },
   "outputs": [
    {
     "data": {
      "image/png": "[encoded data removed]",
      "text/plain": [
       "<Figure size 1000x400 with 1 Axes>"
      ]
     },
     "metadata": {},
     "output_type": "display_data"
    }
   ],
   "source": [
    "plt.figure(figsize=(10,4))\n",
    "sns.countplot(x=\"relationship\", hue=\"income\",data=df);"
   ]
  },
  {
   "cell_type": "markdown",
   "id": "7f970b8c",
   "metadata": {
    "id": "RxcQuKZC8686",
    "papermill": {
     "duration": 0.034088,
     "end_time": "2023-11-10T22:00:07.100209",
     "exception": false,
     "start_time": "2023-11-10T22:00:07.066121",
     "status": "completed"
    },
    "tags": []
   },
   "source": [
    "Mostly a person with relation as husband in a family has most count of people with more then 50k income"
   ]
  },
  {
   "cell_type": "code",
   "execution_count": 26,
   "id": "9aa8218f",
   "metadata": {
    "execution": {
     "iopub.execute_input": "2023-11-10T22:00:07.171739Z",
     "iopub.status.busy": "2023-11-10T22:00:07.171290Z",
     "iopub.status.idle": "2023-11-10T22:00:07.301027Z",
     "shell.execute_reply": "2023-11-10T22:00:07.299576Z"
    },
    "executionInfo": {
     "elapsed": 12,
     "status": "ok",
     "timestamp": 1699032287295,
     "user": {
      "displayName": "Prakash Singh",
      "userId": "12192818067739007778"
     },
     "user_tz": -330
    },
    "id": "yZSn_EIl54eB",
    "outputId": "7d5c4730-2147-4ae5-b82f-698f9e9a021d",
    "papermill": {
     "duration": 0.170583,
     "end_time": "2023-11-10T22:00:07.304803",
     "exception": false,
     "start_time": "2023-11-10T22:00:07.134220",
     "status": "completed"
    },
    "tags": []
   },
   "outputs": [
    {
     "data": {
      "text/plain": [
       "<Axes: ylabel='count'>"
      ]
     },
     "execution_count": 26,
     "metadata": {},
     "output_type": "execute_result"
    },
    {
     "data": {
      "image/png": "[encoded data removed]",
      "text/plain": [
       "<Figure size 1000x400 with 1 Axes>"
      ]
     },
     "metadata": {},
     "output_type": "display_data"
    }
   ],
   "source": [
    "plt.figure(figsize=(10,4))\n",
    "df['gender'].value_counts().plot.pie(autopct='%1.1f%%', colors=['#33cccc','#ded033'])\n"
   ]
  },
  {
   "cell_type": "code",
   "execution_count": 27,
   "id": "bc6ba18a",
   "metadata": {
    "execution": {
     "iopub.execute_input": "2023-11-10T22:00:07.416511Z",
     "iopub.status.busy": "2023-11-10T22:00:07.416053Z",
     "iopub.status.idle": "2023-11-10T22:00:07.787175Z",
     "shell.execute_reply": "2023-11-10T22:00:07.786041Z"
    },
    "executionInfo": {
     "elapsed": 7,
     "status": "ok",
     "timestamp": 1699032287295,
     "user": {
      "displayName": "Prakash Singh",
      "userId": "12192818067739007778"
     },
     "user_tz": -330
    },
    "id": "JQz9-tbm-JAA",
    "outputId": "0dc049c3-3d1c-47af-ed72-01ab25ce7dc0",
    "papermill": {
     "duration": 0.410464,
     "end_time": "2023-11-10T22:00:07.789691",
     "exception": false,
     "start_time": "2023-11-10T22:00:07.379227",
     "status": "completed"
    },
    "tags": []
   },
   "outputs": [
    {
     "data": {
      "image/png": "[encoded data removed]",
      "text/plain": [
       "<Figure size 500x400 with 1 Axes>"
      ]
     },
     "metadata": {},
     "output_type": "display_data"
    }
   ],
   "source": [
    "plt.figure(figsize=(5,4))\n",
    "sns.countplot(x=\"gender\", hue=\"income\",data=df);"
   ]
  },
  {
   "cell_type": "code",
   "execution_count": null,
   "id": "0f9dfab7",
   "metadata": {
    "executionInfo": {
     "elapsed": 625,
     "status": "ok",
     "timestamp": 1699032287913,
     "user": {
      "displayName": "Prakash Singh",
      "userId": "12192818067739007778"
     },
     "user_tz": -330
    },
    "id": "2IU-q3ly3UAh",
    "outputId": "283920cc-e48a-43f1-d142-5973ab2490a1",
    "papermill": {
     "duration": 0.034902,
     "end_time": "2023-11-10T22:00:07.859715",
     "exception": false,
     "start_time": "2023-11-10T22:00:07.824813",
     "status": "completed"
    },
    "tags": []
   },
   "outputs": [],
   "source": []
  },
  {
   "cell_type": "markdown",
   "id": "b4052b1c",
   "metadata": {
    "id": "JbFdGuWvARoF",
    "papermill": {
     "duration": 0.034872,
     "end_time": "2023-11-10T22:00:07.929223",
     "exception": false,
     "start_time": "2023-11-10T22:00:07.894351",
     "status": "completed"
    },
    "tags": []
   },
   "source": [
    "**Feautre Scaling**"
   ]
  },
  {
   "cell_type": "code",
   "execution_count": 28,
   "id": "4641fd9d",
   "metadata": {
    "execution": {
     "iopub.execute_input": "2023-11-10T22:00:08.001040Z",
     "iopub.status.busy": "2023-11-10T22:00:08.000615Z",
     "iopub.status.idle": "2023-11-10T22:00:08.020228Z",
     "shell.execute_reply": "2023-11-10T22:00:08.019136Z"
    },
    "executionInfo": {
     "elapsed": 15,
     "status": "ok",
     "timestamp": 1699032287913,
     "user": {
      "displayName": "Prakash Singh",
      "userId": "12192818067739007778"
     },
     "user_tz": -330
    },
    "id": "isArVrhl_c0L",
    "outputId": "c357217a-c667-4867-91a0-06858506a43f",
    "papermill": {
     "duration": 0.058333,
     "end_time": "2023-11-10T22:00:08.022365",
     "exception": false,
     "start_time": "2023-11-10T22:00:07.964032",
     "status": "completed"
    },
    "tags": []
   },
   "outputs": [
    {
     "data": {
      "text/html": [
       "<div>\n",
       "<style scoped>\n",
       "    .dataframe tbody tr th:only-of-type {\n",
       "        vertical-align: middle;\n",
       "    }\n",
       "\n",
       "    .dataframe tbody tr th {\n",
       "        vertical-align: top;\n",
       "    }\n",
       "\n",
       "    .dataframe thead th {\n",
       "        text-align: right;\n",
       "    }\n",
       "</style>\n",
       "<table border=\"1\" class=\"dataframe\">\n",
       "  <thead>\n",
       "    <tr style=\"text-align: right;\">\n",
       "      <th></th>\n",
       "      <th>age</th>\n",
       "      <th>workclass</th>\n",
       "      <th>fnlwgt</th>\n",
       "      <th>education</th>\n",
       "      <th>educational-num</th>\n",
       "      <th>marital-status</th>\n",
       "      <th>occupation</th>\n",
       "      <th>relationship</th>\n",
       "      <th>race</th>\n",
       "      <th>gender</th>\n",
       "      <th>capital-gain</th>\n",
       "      <th>capital-loss</th>\n",
       "      <th>hours-per-week</th>\n",
       "      <th>native-country</th>\n",
       "      <th>income</th>\n",
       "    </tr>\n",
       "  </thead>\n",
       "  <tbody>\n",
       "    <tr>\n",
       "      <th>0</th>\n",
       "      <td>25</td>\n",
       "      <td>Private</td>\n",
       "      <td>226802</td>\n",
       "      <td>11th</td>\n",
       "      <td>7</td>\n",
       "      <td>Never-married</td>\n",
       "      <td>Machine-op-inspct</td>\n",
       "      <td>Own-child</td>\n",
       "      <td>Black</td>\n",
       "      <td>Male</td>\n",
       "      <td>0</td>\n",
       "      <td>0</td>\n",
       "      <td>40</td>\n",
       "      <td>United-States</td>\n",
       "      <td>&lt;=50K</td>\n",
       "    </tr>\n",
       "    <tr>\n",
       "      <th>1</th>\n",
       "      <td>38</td>\n",
       "      <td>Private</td>\n",
       "      <td>89814</td>\n",
       "      <td>HS-grad</td>\n",
       "      <td>9</td>\n",
       "      <td>Married-civ-spouse</td>\n",
       "      <td>Farming-fishing</td>\n",
       "      <td>Husband</td>\n",
       "      <td>White</td>\n",
       "      <td>Male</td>\n",
       "      <td>0</td>\n",
       "      <td>0</td>\n",
       "      <td>50</td>\n",
       "      <td>United-States</td>\n",
       "      <td>&lt;=50K</td>\n",
       "    </tr>\n",
       "    <tr>\n",
       "      <th>2</th>\n",
       "      <td>28</td>\n",
       "      <td>Local-gov</td>\n",
       "      <td>336951</td>\n",
       "      <td>Assoc-acdm</td>\n",
       "      <td>12</td>\n",
       "      <td>Married-civ-spouse</td>\n",
       "      <td>Protective-serv</td>\n",
       "      <td>Husband</td>\n",
       "      <td>White</td>\n",
       "      <td>Male</td>\n",
       "      <td>0</td>\n",
       "      <td>0</td>\n",
       "      <td>40</td>\n",
       "      <td>United-States</td>\n",
       "      <td>&gt;50K</td>\n",
       "    </tr>\n",
       "    <tr>\n",
       "      <th>3</th>\n",
       "      <td>44</td>\n",
       "      <td>Private</td>\n",
       "      <td>160323</td>\n",
       "      <td>Some-college</td>\n",
       "      <td>10</td>\n",
       "      <td>Married-civ-spouse</td>\n",
       "      <td>Machine-op-inspct</td>\n",
       "      <td>Husband</td>\n",
       "      <td>Black</td>\n",
       "      <td>Male</td>\n",
       "      <td>7688</td>\n",
       "      <td>0</td>\n",
       "      <td>40</td>\n",
       "      <td>United-States</td>\n",
       "      <td>&gt;50K</td>\n",
       "    </tr>\n",
       "    <tr>\n",
       "      <th>5</th>\n",
       "      <td>34</td>\n",
       "      <td>Private</td>\n",
       "      <td>198693</td>\n",
       "      <td>10th</td>\n",
       "      <td>6</td>\n",
       "      <td>Never-married</td>\n",
       "      <td>Other-service</td>\n",
       "      <td>Not-in-family</td>\n",
       "      <td>White</td>\n",
       "      <td>Male</td>\n",
       "      <td>0</td>\n",
       "      <td>0</td>\n",
       "      <td>30</td>\n",
       "      <td>United-States</td>\n",
       "      <td>&lt;=50K</td>\n",
       "    </tr>\n",
       "  </tbody>\n",
       "</table>\n",
       "</div>"
      ],
      "text/plain": [
       "   age  workclass  fnlwgt     education  educational-num      marital-status  \\\n",
       "0   25    Private  226802          11th                7       Never-married   \n",
       "1   38    Private   89814       HS-grad                9  Married-civ-spouse   \n",
       "2   28  Local-gov  336951    Assoc-acdm               12  Married-civ-spouse   \n",
       "3   44    Private  160323  Some-college               10  Married-civ-spouse   \n",
       "5   34    Private  198693          10th                6       Never-married   \n",
       "\n",
       "          occupation   relationship   race gender  capital-gain  capital-loss  \\\n",
       "0  Machine-op-inspct      Own-child  Black   Male             0             0   \n",
       "1    Farming-fishing        Husband  White   Male             0             0   \n",
       "2    Protective-serv        Husband  White   Male             0             0   \n",
       "3  Machine-op-inspct        Husband  Black   Male          7688             0   \n",
       "5      Other-service  Not-in-family  White   Male             0             0   \n",
       "\n",
       "   hours-per-week native-country income  \n",
       "0              40  United-States  <=50K  \n",
       "1              50  United-States  <=50K  \n",
       "2              40  United-States   >50K  \n",
       "3              40  United-States   >50K  \n",
       "5              30  United-States  <=50K  "
      ]
     },
     "execution_count": 28,
     "metadata": {},
     "output_type": "execute_result"
    }
   ],
   "source": [
    "df.head()"
   ]
  },
  {
   "cell_type": "markdown",
   "id": "ec15c281",
   "metadata": {
    "id": "owpQdI9x_vuE",
    "papermill": {
     "duration": 0.035788,
     "end_time": "2023-11-10T22:00:08.093429",
     "exception": false,
     "start_time": "2023-11-10T22:00:08.057641",
     "status": "completed"
    },
    "tags": []
   },
   "source": [
    "From observation we conclude that education. num and education are similar with education is categorical and education.num as numerical\n",
    "\n",
    "For Bachelors, the Education Number is [13]\n",
    "\n",
    "For HS-grad, the Education Number is [9]\n",
    "\n",
    "For 11th, the Education Number is [7]\n",
    "\n",
    "For Masters, the Education Number is [14]\n",
    "\n",
    "For 9th, the Education Number is [5]\n",
    "\n",
    "For Some-college, the Education Number is [10]\n",
    "\n",
    "For Assoc-acdm, the Education Number is [12]\n",
    "\n",
    "For Assoc-voc, the Education Number is [11]\n",
    "\n",
    "For 7th-8th, the Education Number is [4]\n",
    "\n",
    "For Doctorate, the Education Number is [16]\n",
    "\n",
    "For Prof-school, the Education Number is [15]\n",
    "\n",
    "For 5th-6th, the Education Number is [3]\n",
    "\n",
    "For 10th, the Education Number is [6]\n",
    "\n",
    "For 1st-4th, the Education Number is [2]\n",
    "\n",
    "For Preschool, the Education Number is [1]\n",
    "\n",
    "For 12th, the Education Number is [8]\n",
    "\n",
    "I see that Education Number and Education are just the same, so, Education of them column could be droped.we already discussed that we need to drop capital-gain and capital-loss.\n",
    "\n"
   ]
  },
  {
   "cell_type": "code",
   "execution_count": 29,
   "id": "dfa8b766",
   "metadata": {
    "execution": {
     "iopub.execute_input": "2023-11-10T22:00:08.167216Z",
     "iopub.status.busy": "2023-11-10T22:00:08.166805Z",
     "iopub.status.idle": "2023-11-10T22:00:08.183595Z",
     "shell.execute_reply": "2023-11-10T22:00:08.182627Z"
    },
    "executionInfo": {
     "elapsed": 14,
     "status": "ok",
     "timestamp": 1699032287913,
     "user": {
      "displayName": "Prakash Singh",
      "userId": "12192818067739007778"
     },
     "user_tz": -330
    },
    "id": "ZcDM53mz3UEG",
    "outputId": "ab186dfa-cac6-480b-d2fa-dd1b769dd7c0",
    "papermill": {
     "duration": 0.056917,
     "end_time": "2023-11-10T22:00:08.185918",
     "exception": false,
     "start_time": "2023-11-10T22:00:08.129001",
     "status": "completed"
    },
    "tags": []
   },
   "outputs": [
    {
     "data": {
      "text/plain": [
       "(45175, 12)"
      ]
     },
     "execution_count": 29,
     "metadata": {},
     "output_type": "execute_result"
    }
   ],
   "source": [
    "df.drop(['education','capital-gain','capital-loss'], axis = 1, inplace = True)\n",
    "df.shape"
   ]
  },
  {
   "cell_type": "markdown",
   "id": "066affd0",
   "metadata": {
    "id": "7Ol4dTFCBn7-",
    "papermill": {
     "duration": 0.036084,
     "end_time": "2023-11-10T22:00:08.258153",
     "exception": false,
     "start_time": "2023-11-10T22:00:08.222069",
     "status": "completed"
    },
    "tags": []
   },
   "source": [
    "**Data pre-processing**\n",
    "\n",
    "The data must be pre-processed before fed as input for training. Here there are various categorical variables which do not map to numerical value. These must be converted to numerical form. There are two paths that can be deployed:\n",
    "\n",
    "**Map to ordinal values**\n",
    "\n",
    "**One-hot encoding**\n",
    "\n",
    "**Map to ordinal values**\n",
    "\n",
    "This method revolves around replacing a category to a mapped numeric value. One example is mapping Male to 1 and Female to 0 for the Gender attribute. We have sorted the average purchase value for each category and assigned a value on a priority basis.\n",
    "\n",
    "**One-hot encoding**\n",
    "\n",
    "This involes creating a binary variable for each attribute. Here, we have one-hot encoded City_Category. Each new variable takes on the value 1 if the original variable had that category and 0 otherwise.\n",
    "\n",
    "**Mapping v/s One-hot encoding**\n",
    "\n",
    "The main advantage of one-hot encoding is that it preserves the categorical nature of the variable and prevents the numerical values from being interpreted as having an inherent order or magnitude. This is particularly important when dealing with variables that do not have a natural order, such as types of products or regions.\n",
    "\n",
    "The choice between replacement with values and one-hot encoding depends on the specific problem at hand and the nature of the variable being transformed. If the categories have an inherent order or magnitude, replacement with values may be more appropriate. If the categories are unordered, one-hot encoding is usually the preferred method.\n",
    "\n",
    "But again for simplicity we are going to do mapping here"
   ]
  },
  {
   "cell_type": "code",
   "execution_count": 30,
   "id": "96f1fbdf",
   "metadata": {
    "execution": {
     "iopub.execute_input": "2023-11-10T22:00:08.331206Z",
     "iopub.status.busy": "2023-11-10T22:00:08.330793Z",
     "iopub.status.idle": "2023-11-10T22:00:08.464815Z",
     "shell.execute_reply": "2023-11-10T22:00:08.463467Z"
    },
    "executionInfo": {
     "elapsed": 12,
     "status": "ok",
     "timestamp": 1699032287913,
     "user": {
      "displayName": "Prakash Singh",
      "userId": "12192818067739007778"
     },
     "user_tz": -330
    },
    "id": "BCMz_w_xktwb",
    "outputId": "82341fca-d824-425e-e56a-76ac0f5becf1",
    "papermill": {
     "duration": 0.173472,
     "end_time": "2023-11-10T22:00:08.467359",
     "exception": false,
     "start_time": "2023-11-10T22:00:08.293887",
     "status": "completed"
    },
    "tags": []
   },
   "outputs": [
    {
     "data": {
      "text/html": [
       "<div>\n",
       "<style scoped>\n",
       "    .dataframe tbody tr th:only-of-type {\n",
       "        vertical-align: middle;\n",
       "    }\n",
       "\n",
       "    .dataframe tbody tr th {\n",
       "        vertical-align: top;\n",
       "    }\n",
       "\n",
       "    .dataframe thead th {\n",
       "        text-align: right;\n",
       "    }\n",
       "</style>\n",
       "<table border=\"1\" class=\"dataframe\">\n",
       "  <thead>\n",
       "    <tr style=\"text-align: right;\">\n",
       "      <th></th>\n",
       "      <th>age</th>\n",
       "      <th>workclass</th>\n",
       "      <th>fnlwgt</th>\n",
       "      <th>educational-num</th>\n",
       "      <th>marital-status</th>\n",
       "      <th>occupation</th>\n",
       "      <th>relationship</th>\n",
       "      <th>race</th>\n",
       "      <th>gender</th>\n",
       "      <th>hours-per-week</th>\n",
       "      <th>native-country</th>\n",
       "      <th>income</th>\n",
       "    </tr>\n",
       "  </thead>\n",
       "  <tbody>\n",
       "    <tr>\n",
       "      <th>0</th>\n",
       "      <td>25</td>\n",
       "      <td>2</td>\n",
       "      <td>226802</td>\n",
       "      <td>7</td>\n",
       "      <td>4</td>\n",
       "      <td>6</td>\n",
       "      <td>3</td>\n",
       "      <td>2</td>\n",
       "      <td>1</td>\n",
       "      <td>40</td>\n",
       "      <td>38</td>\n",
       "      <td>0</td>\n",
       "    </tr>\n",
       "    <tr>\n",
       "      <th>1</th>\n",
       "      <td>38</td>\n",
       "      <td>2</td>\n",
       "      <td>89814</td>\n",
       "      <td>9</td>\n",
       "      <td>2</td>\n",
       "      <td>4</td>\n",
       "      <td>0</td>\n",
       "      <td>4</td>\n",
       "      <td>1</td>\n",
       "      <td>50</td>\n",
       "      <td>38</td>\n",
       "      <td>0</td>\n",
       "    </tr>\n",
       "    <tr>\n",
       "      <th>2</th>\n",
       "      <td>28</td>\n",
       "      <td>1</td>\n",
       "      <td>336951</td>\n",
       "      <td>12</td>\n",
       "      <td>2</td>\n",
       "      <td>10</td>\n",
       "      <td>0</td>\n",
       "      <td>4</td>\n",
       "      <td>1</td>\n",
       "      <td>40</td>\n",
       "      <td>38</td>\n",
       "      <td>1</td>\n",
       "    </tr>\n",
       "    <tr>\n",
       "      <th>3</th>\n",
       "      <td>44</td>\n",
       "      <td>2</td>\n",
       "      <td>160323</td>\n",
       "      <td>10</td>\n",
       "      <td>2</td>\n",
       "      <td>6</td>\n",
       "      <td>0</td>\n",
       "      <td>2</td>\n",
       "      <td>1</td>\n",
       "      <td>40</td>\n",
       "      <td>38</td>\n",
       "      <td>1</td>\n",
       "    </tr>\n",
       "    <tr>\n",
       "      <th>5</th>\n",
       "      <td>34</td>\n",
       "      <td>2</td>\n",
       "      <td>198693</td>\n",
       "      <td>6</td>\n",
       "      <td>4</td>\n",
       "      <td>7</td>\n",
       "      <td>1</td>\n",
       "      <td>4</td>\n",
       "      <td>1</td>\n",
       "      <td>30</td>\n",
       "      <td>38</td>\n",
       "      <td>0</td>\n",
       "    </tr>\n",
       "  </tbody>\n",
       "</table>\n",
       "</div>"
      ],
      "text/plain": [
       "   age  workclass  fnlwgt  educational-num  marital-status  occupation  \\\n",
       "0   25          2  226802                7               4           6   \n",
       "1   38          2   89814                9               2           4   \n",
       "2   28          1  336951               12               2          10   \n",
       "3   44          2  160323               10               2           6   \n",
       "5   34          2  198693                6               4           7   \n",
       "\n",
       "   relationship  race  gender  hours-per-week  native-country  income  \n",
       "0             3     2       1              40              38       0  \n",
       "1             0     4       1              50              38       0  \n",
       "2             0     4       1              40              38       1  \n",
       "3             0     2       1              40              38       1  \n",
       "5             1     4       1              30              38       0  "
      ]
     },
     "execution_count": 30,
     "metadata": {},
     "output_type": "execute_result"
    }
   ],
   "source": [
    "from sklearn.preprocessing import LabelEncoder\n",
    "\n",
    "le = LabelEncoder()\n",
    "for column in df.columns:\n",
    "    if df[column].dtype == 'object':\n",
    "        df[column] = le.fit_transform(df[column])\n",
    "\n",
    "df.head()\n"
   ]
  },
  {
   "cell_type": "code",
   "execution_count": 31,
   "id": "efb77728",
   "metadata": {
    "execution": {
     "iopub.execute_input": "2023-11-10T22:00:08.540885Z",
     "iopub.status.busy": "2023-11-10T22:00:08.540495Z",
     "iopub.status.idle": "2023-11-10T22:00:08.574198Z",
     "shell.execute_reply": "2023-11-10T22:00:08.572878Z"
    },
    "executionInfo": {
     "elapsed": 11,
     "status": "ok",
     "timestamp": 1699032287913,
     "user": {
      "displayName": "Prakash Singh",
      "userId": "12192818067739007778"
     },
     "user_tz": -330
    },
    "id": "_oayHQZ04WJW",
    "outputId": "46c62237-2605-45c3-ec39-8497ad99aeef",
    "papermill": {
     "duration": 0.073096,
     "end_time": "2023-11-10T22:00:08.576701",
     "exception": false,
     "start_time": "2023-11-10T22:00:08.503605",
     "status": "completed"
    },
    "tags": []
   },
   "outputs": [
    {
     "data": {
      "text/plain": [
       "(45175, 11)"
      ]
     },
     "execution_count": 31,
     "metadata": {},
     "output_type": "execute_result"
    }
   ],
   "source": [
    "X = df.drop('income', axis = 1)\n",
    "y = df['income']\n",
    "# standardizing the dataframe\n",
    "X = StandardScaler().fit_transform(X)\n",
    "X.shape"
   ]
  },
  {
   "cell_type": "markdown",
   "id": "a1c39e51",
   "metadata": {
    "id": "W0x0xzEUE9O_",
    "papermill": {
     "duration": 0.035869,
     "end_time": "2023-11-10T22:00:08.648682",
     "exception": false,
     "start_time": "2023-11-10T22:00:08.612813",
     "status": "completed"
    },
    "tags": []
   },
   "source": [
    "**Data splitting**\n",
    "\n",
    "We split the provided data set in 80:20 for training and testing. In ML, we split the data to evaluate the performance of our models accurately. The main reason for splitting data into training and testing sets is to train our model on a subset of data and test its performance on unseen data.\n",
    "\n",
    "By using a separate testing set, we can determine whether our model is overfitting or underfitting. Overfitting occurs when the model performs well on the training data but poorly on the testing data, while underfitting occurs when the model does not capture the underlying patterns in the data and performs poorly on both training and testing data.\n",
    "\n",
    "Splitting data allows us to optimize our model's parameters on the training data and evaluate its performance on the testing data, which is representative of the real-world data. This process helps us to build models that generalize well to new, unseen data and provide accurate predictions or classifications."
   ]
  },
  {
   "cell_type": "code",
   "execution_count": 32,
   "id": "d08f0a70",
   "metadata": {
    "execution": {
     "iopub.execute_input": "2023-11-10T22:00:08.722218Z",
     "iopub.status.busy": "2023-11-10T22:00:08.721852Z",
     "iopub.status.idle": "2023-11-10T22:00:08.733770Z",
     "shell.execute_reply": "2023-11-10T22:00:08.732814Z"
    },
    "executionInfo": {
     "elapsed": 11,
     "status": "ok",
     "timestamp": 1699032287914,
     "user": {
      "displayName": "Prakash Singh",
      "userId": "12192818067739007778"
     },
     "user_tz": -330
    },
    "id": "dP-ckhtH4WGn",
    "papermill": {
     "duration": 0.051574,
     "end_time": "2023-11-10T22:00:08.736032",
     "exception": false,
     "start_time": "2023-11-10T22:00:08.684458",
     "status": "completed"
    },
    "tags": []
   },
   "outputs": [],
   "source": [
    "x_train, x_test, y_train, y_test = train_test_split(X, y, train_size=0.8, random_state=43)"
   ]
  },
  {
   "cell_type": "code",
   "execution_count": 33,
   "id": "def7f25d",
   "metadata": {
    "execution": {
     "iopub.execute_input": "2023-11-10T22:00:08.809690Z",
     "iopub.status.busy": "2023-11-10T22:00:08.808922Z",
     "iopub.status.idle": "2023-11-10T22:00:08.876465Z",
     "shell.execute_reply": "2023-11-10T22:00:08.875103Z"
    },
    "executionInfo": {
     "elapsed": 11,
     "status": "ok",
     "timestamp": 1699032287914,
     "user": {
      "displayName": "Prakash Singh",
      "userId": "12192818067739007778"
     },
     "user_tz": -330
    },
    "id": "KwN3fuDm4WMm",
    "outputId": "7ee7b911-d369-4eaf-fca0-31888ba0ee58",
    "papermill": {
     "duration": 0.10907,
     "end_time": "2023-11-10T22:00:08.880815",
     "exception": false,
     "start_time": "2023-11-10T22:00:08.771745",
     "status": "completed"
    },
    "tags": []
   },
   "outputs": [
    {
     "name": "stdout",
     "output_type": "stream",
     "text": [
      "Accuracy= 0.7992252351964583\n"
     ]
    }
   ],
   "source": [
    "modelLG = LogisticRegression()\n",
    "modelLG.fit(x_train, y_train)\n",
    "y_predict = modelLG.predict(x_test)\n",
    "print('Accuracy=',accuracy_score(y_test, y_predict))"
   ]
  },
  {
   "cell_type": "markdown",
   "id": "2eb0fdf9",
   "metadata": {
    "id": "qV4jt2ZWMIOn",
    "papermill": {
     "duration": 0.053023,
     "end_time": "2023-11-10T22:00:09.008921",
     "exception": false,
     "start_time": "2023-11-10T22:00:08.955898",
     "status": "completed"
    },
    "tags": []
   },
   "source": [
    "My accuracy is near 80% which pretty good with logistic regression\n",
    "Down below some more evaluation matrix i have disccused.\n",
    "\n"
   ]
  },
  {
   "cell_type": "code",
   "execution_count": 34,
   "id": "abc36607",
   "metadata": {
    "execution": {
     "iopub.execute_input": "2023-11-10T22:00:09.083493Z",
     "iopub.status.busy": "2023-11-10T22:00:09.083141Z",
     "iopub.status.idle": "2023-11-10T22:00:09.108984Z",
     "shell.execute_reply": "2023-11-10T22:00:09.107789Z"
    },
    "executionInfo": {
     "elapsed": 9,
     "status": "ok",
     "timestamp": 1699032287914,
     "user": {
      "displayName": "Prakash Singh",
      "userId": "12192818067739007778"
     },
     "user_tz": -330
    },
    "id": "s3LGd_s-GpgQ",
    "outputId": "e6778e0b-c87f-445c-f11a-950627fd2576",
    "papermill": {
     "duration": 0.066109,
     "end_time": "2023-11-10T22:00:09.111654",
     "exception": false,
     "start_time": "2023-11-10T22:00:09.045545",
     "status": "completed"
    },
    "tags": []
   },
   "outputs": [
    {
     "name": "stdout",
     "output_type": "stream",
     "text": [
      "              precision    recall  f1-score   support\n",
      "\n",
      "           0       0.82      0.93      0.87      6790\n",
      "           1       0.66      0.40      0.50      2245\n",
      "\n",
      "    accuracy                           0.80      9035\n",
      "   macro avg       0.74      0.67      0.69      9035\n",
      "weighted avg       0.78      0.80      0.78      9035\n",
      "\n"
     ]
    }
   ],
   "source": [
    "print(classification_report(y_test,y_predict))"
   ]
  },
  {
   "cell_type": "markdown",
   "id": "9f1f71ca",
   "metadata": {
    "id": "2Cp0n7zYJyr6",
    "papermill": {
     "duration": 0.041373,
     "end_time": "2023-11-10T22:00:09.189695",
     "exception": false,
     "start_time": "2023-11-10T22:00:09.148322",
     "status": "completed"
    },
    "tags": []
   },
   "source": [
    "**Precision:**\n",
    "\n",
    " Precision is a measure of how accurate a model’s positive predictions are. It is defined as the ratio of true positive predictions to the total number of positive predictions made by the model\n",
    "\n",
    "** Accuracy:**\n",
    "  Accuracy is used to measure the performance of the model. It is the ratio of Total correct instances to the total instances.\n",
    "\n",
    "  **Recall:**\n",
    "  \n",
    "   Recall measures the effectiveness of a classification model in identifying all relevant instances from a dataset. It is the ratio of the number of true positive (TP) instances to the sum of true positive and false negative (FN) instances.\n",
    "\n",
    "  ** F1-Score**:\n",
    "  \n",
    "   F1-score is used to evaluate the overall performance of a classification model. It is the harmonic mean of precision and recall,\n",
    "\n"
   ]
  },
  {
   "cell_type": "markdown",
   "id": "afecf588",
   "metadata": {
    "id": "-kk1ba92LkXk",
    "papermill": {
     "duration": 0.034809,
     "end_time": "2023-11-10T22:00:09.259393",
     "exception": false,
     "start_time": "2023-11-10T22:00:09.224584",
     "status": "completed"
    },
    "tags": []
   },
   "source": [
    "**Confusion Matrix**\n",
    "\n",
    "A confusion matrix is a matrix that summarizes the performance of a machine learning model on a set of test data. It is often used to measure the performance of classification models, which aim to predict a categorical label for each input instance. The matrix displays the number of true positives (TP), true negatives (TN), false positives (FP), and false negatives (FN) produced by the model on the test data."
   ]
  },
  {
   "cell_type": "code",
   "execution_count": 35,
   "id": "1aee94e7",
   "metadata": {
    "execution": {
     "iopub.execute_input": "2023-11-10T22:00:09.333220Z",
     "iopub.status.busy": "2023-11-10T22:00:09.332831Z",
     "iopub.status.idle": "2023-11-10T22:00:09.626781Z",
     "shell.execute_reply": "2023-11-10T22:00:09.625690Z"
    },
    "executionInfo": {
     "elapsed": 478,
     "status": "ok",
     "timestamp": 1699032288384,
     "user": {
      "displayName": "Prakash Singh",
      "userId": "12192818067739007778"
     },
     "user_tz": -330
    },
    "id": "5V6E2FEWLPXD",
    "outputId": "736f9bae-dad5-49f2-d8d0-1e3a330df85b",
    "papermill": {
     "duration": 0.333653,
     "end_time": "2023-11-10T22:00:09.629171",
     "exception": false,
     "start_time": "2023-11-10T22:00:09.295518",
     "status": "completed"
    },
    "tags": []
   },
   "outputs": [
    {
     "data": {
      "image/png": "[encoded data removed]",
      "text/plain": [
       "<Figure size 800x600 with 2 Axes>"
      ]
     },
     "metadata": {},
     "output_type": "display_data"
    }
   ],
   "source": [
    "cm = confusion_matrix(y_test, y_predict)\n",
    "plt.figure(figsize=(8, 6))\n",
    "sns.heatmap(cm, annot=True, fmt='d', cmap='Blues', xticklabels=['Class 0', 'Class 1'], yticklabels=['Class 0', 'Class 1'])\n",
    "plt.xlabel('Predicted')\n",
    "plt.ylabel('Actual')\n",
    "plt.title('Confusion Matrix')\n",
    "plt.show()\n"
   ]
  },
  {
   "cell_type": "code",
   "execution_count": 36,
   "id": "c39ba4cf",
   "metadata": {
    "execution": {
     "iopub.execute_input": "2023-11-10T22:00:09.702465Z",
     "iopub.status.busy": "2023-11-10T22:00:09.702095Z",
     "iopub.status.idle": "2023-11-10T22:00:09.722865Z",
     "shell.execute_reply": "2023-11-10T22:00:09.721948Z"
    },
    "executionInfo": {
     "elapsed": 6,
     "status": "ok",
     "timestamp": 1699032288384,
     "user": {
      "displayName": "Prakash Singh",
      "userId": "12192818067739007778"
     },
     "user_tz": -330
    },
    "id": "Ehg3XXSMHsAt",
    "papermill": {
     "duration": 0.059998,
     "end_time": "2023-11-10T22:00:09.725098",
     "exception": false,
     "start_time": "2023-11-10T22:00:09.665100",
     "status": "completed"
    },
    "tags": []
   },
   "outputs": [],
   "source": [
    "\n",
    "accuracy = accuracy_score(y_test, y_predict)\n",
    "precision = precision_score(y_test, y_predict)\n",
    "recall = recall_score(y_test, y_predict)\n",
    "f1_score = f1_score(y_test, y_predict)\n"
   ]
  },
  {
   "cell_type": "code",
   "execution_count": 37,
   "id": "1c532ec3",
   "metadata": {
    "execution": {
     "iopub.execute_input": "2023-11-10T22:00:09.798616Z",
     "iopub.status.busy": "2023-11-10T22:00:09.798230Z",
     "iopub.status.idle": "2023-11-10T22:00:10.069716Z",
     "shell.execute_reply": "2023-11-10T22:00:10.068002Z"
    },
    "executionInfo": {
     "elapsed": 6,
     "status": "ok",
     "timestamp": 1699032288384,
     "user": {
      "displayName": "Prakash Singh",
      "userId": "12192818067739007778"
     },
     "user_tz": -330
    },
    "id": "X8rO7cJ9Gpja",
    "outputId": "77973ae8-7139-401a-a023-e9586b6f4bfc",
    "papermill": {
     "duration": 0.311124,
     "end_time": "2023-11-10T22:00:10.072277",
     "exception": false,
     "start_time": "2023-11-10T22:00:09.761153",
     "status": "completed"
    },
    "tags": []
   },
   "outputs": [
    {
     "data": {
      "image/png": "[encoded data removed]",
      "text/plain": [
       "<Figure size 1000x600 with 1 Axes>"
      ]
     },
     "metadata": {},
     "output_type": "display_data"
    }
   ],
   "source": [
    "# Create a bar plot to visualize the metrics\n",
    "metrics = ['Accuracy', 'Precision', 'Recall', 'F1 Score']\n",
    "values = [accuracy, precision, recall, f1_score]\n",
    "\n",
    "plt.figure(figsize=(10, 6))\n",
    "sns.barplot(x=values, y=metrics, palette='viridis')\n",
    "plt.title('Model Evaluation Metrics')\n",
    "plt.xlabel('Value')\n",
    "plt.xlim(0, 1)  # Adjust the x-axis limits if needed\n",
    "plt.grid(axis='x', linestyle='--', alpha=0.6)\n",
    "\n",
    "# Annotate the values on the bars\n",
    "for i, v in enumerate(values):\n",
    "    plt.text(v + 0.01, i, f'{v:.2f}', color='black', va='center')\n",
    "\n",
    "plt.show()"
   ]
  },
  {
   "cell_type": "markdown",
   "id": "8a71b6ee",
   "metadata": {
    "id": "pk-6kGLrLtrJ",
    "papermill": {
     "duration": 0.038587,
     "end_time": "2023-11-10T22:00:10.148629",
     "exception": false,
     "start_time": "2023-11-10T22:00:10.110042",
     "status": "completed"
    },
    "tags": []
   },
   "source": [
    "**Future Improvement:**\n",
    "we could have used PCA feature extraction\n",
    "we can use different classification model like decision tree, SVM , random forest, or gradient boosting classifier, etc. to see is there model which can perform better than this.\n",
    "\n",
    "we can further make some improvement in feature extraction like using one hot coding for gender or for nominal data type, etc."
   ]
  }
 ],
 "metadata": {
  "kernelspec": {
   "display_name": "Python 3",
   "language": "python",
   "name": "python3"
  },
  "language_info": {
   "codemirror_mode": {
    "name": "ipython",
    "version": 3
   },
   "file_extension": ".py",
   "mimetype": "text/x-python",
   "name": "python",
   "nbconvert_exporter": "python",
   "pygments_lexer": "ipython3",
   "version": "3.10.12"
  },
  "papermill": {
   "default_parameters": {},
   "duration": 18.482217,
   "end_time": "2023-11-10T22:00:10.821786",
   "environment_variables": {},
   "exception": null,
   "input_path": "__notebook__.ipynb",
   "output_path": "__notebook__.ipynb",
   "parameters": {},
   "start_time": "2023-11-10T21:59:52.339569",
   "version": "2.4.0"
  }
 },
 "nbformat": 4,
 "nbformat_minor": 5
}
